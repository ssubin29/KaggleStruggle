{
  "nbformat": 4,
  "nbformat_minor": 0,
  "metadata": {
    "colab": {
      "name": "digitRecognizer_useClassification.ipynb",
      "provenance": [],
      "collapsed_sections": [
        "a_m--sCAETAC"
      ],
      "authorship_tag": "ABX9TyMPTehNbNdfbAJS+0GRvA/l",
      "include_colab_link": true
    },
    "kernelspec": {
      "name": "python3",
      "display_name": "Python 3"
    },
    "language_info": {
      "name": "python"
    },
    "accelerator": "GPU"
  },
  "cells": [
    {
      "cell_type": "markdown",
      "metadata": {
        "id": "view-in-github",
        "colab_type": "text"
      },
      "source": [
        "<a href=\"https://colab.research.google.com/github/ssubin29/KaggleStruggle/blob/main/DigitRecognizer_useClassification.ipynb\" target=\"_parent\"><img src=\"https://colab.research.google.com/assets/colab-badge.svg\" alt=\"Open In Colab\"/></a>"
      ]
    },
    {
      "cell_type": "markdown",
      "metadata": {
        "id": "a_m--sCAETAC"
      },
      "source": [
        "## Kaggle API 연동"
      ]
    },
    {
      "cell_type": "code",
      "metadata": {
        "colab": {
          "resources": {
            "http://localhost:8080/nbextensions/google.colab/files.js": {
              "data": "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",
              "ok": true,
              "headers": [
                [
                  "content-type",
                  "application/javascript"
                ]
              ],
              "status": 200,
              "status_text": ""
            }
          },
          "base_uri": "https://localhost:8080/",
          "height": 476
        },
        "id": "dBSJqBipES2t",
        "outputId": "dc4a4409-66a0-4fc0-adff-a93ab0d51934"
      },
      "source": [
        "# API Token 다운받기\n",
        "# 다운받은 API Token 업로드 하기\n",
        "!pip install kaggle\n",
        "from google.colab import files\n",
        "files.upload()\n",
        "# json 파일 옮겨주기\n",
        "!mkdir -p ~/.kaggle\n",
        "!cp kaggle.json ~/.kaggle/\n",
        "# Permission Warning 이 일어나지 않도록 \n",
        "!chmod 600 ~/.kaggle/kaggle.json\n",
        "!pip install kaggle"
      ],
      "execution_count": null,
      "outputs": [
        {
          "output_type": "stream",
          "name": "stdout",
          "text": [
            "Requirement already satisfied: kaggle in /usr/local/lib/python3.7/dist-packages (1.5.12)\n",
            "Requirement already satisfied: python-dateutil in /usr/local/lib/python3.7/dist-packages (from kaggle) (2.8.2)\n",
            "Requirement already satisfied: python-slugify in /usr/local/lib/python3.7/dist-packages (from kaggle) (5.0.2)\n",
            "Requirement already satisfied: certifi in /usr/local/lib/python3.7/dist-packages (from kaggle) (2021.5.30)\n",
            "Requirement already satisfied: requests in /usr/local/lib/python3.7/dist-packages (from kaggle) (2.23.0)\n",
            "Requirement already satisfied: six>=1.10 in /usr/local/lib/python3.7/dist-packages (from kaggle) (1.15.0)\n",
            "Requirement already satisfied: urllib3 in /usr/local/lib/python3.7/dist-packages (from kaggle) (1.24.3)\n",
            "Requirement already satisfied: tqdm in /usr/local/lib/python3.7/dist-packages (from kaggle) (4.62.3)\n",
            "Requirement already satisfied: text-unidecode>=1.3 in /usr/local/lib/python3.7/dist-packages (from python-slugify->kaggle) (1.3)\n",
            "Requirement already satisfied: idna<3,>=2.5 in /usr/local/lib/python3.7/dist-packages (from requests->kaggle) (2.10)\n",
            "Requirement already satisfied: chardet<4,>=3.0.2 in /usr/local/lib/python3.7/dist-packages (from requests->kaggle) (3.0.4)\n"
          ]
        },
        {
          "output_type": "display_data",
          "data": {
            "text/html": [
              "\n",
              "     <input type=\"file\" id=\"files-48489d91-6444-4071-ad52-ec1b7e71daa6\" name=\"files[]\" multiple disabled\n",
              "        style=\"border:none\" />\n",
              "     <output id=\"result-48489d91-6444-4071-ad52-ec1b7e71daa6\">\n",
              "      Upload widget is only available when the cell has been executed in the\n",
              "      current browser session. Please rerun this cell to enable.\n",
              "      </output>\n",
              "      <script src=\"/nbextensions/google.colab/files.js\"></script> "
            ],
            "text/plain": [
              "<IPython.core.display.HTML object>"
            ]
          },
          "metadata": {}
        },
        {
          "output_type": "stream",
          "name": "stdout",
          "text": [
            "Saving kaggle.json to kaggle (1).json\n",
            "Requirement already satisfied: kaggle in /usr/local/lib/python3.7/dist-packages (1.5.12)\n",
            "Requirement already satisfied: requests in /usr/local/lib/python3.7/dist-packages (from kaggle) (2.23.0)\n",
            "Requirement already satisfied: python-dateutil in /usr/local/lib/python3.7/dist-packages (from kaggle) (2.8.2)\n",
            "Requirement already satisfied: certifi in /usr/local/lib/python3.7/dist-packages (from kaggle) (2021.5.30)\n",
            "Requirement already satisfied: python-slugify in /usr/local/lib/python3.7/dist-packages (from kaggle) (5.0.2)\n",
            "Requirement already satisfied: six>=1.10 in /usr/local/lib/python3.7/dist-packages (from kaggle) (1.15.0)\n",
            "Requirement already satisfied: tqdm in /usr/local/lib/python3.7/dist-packages (from kaggle) (4.62.3)\n",
            "Requirement already satisfied: urllib3 in /usr/local/lib/python3.7/dist-packages (from kaggle) (1.24.3)\n",
            "Requirement already satisfied: text-unidecode>=1.3 in /usr/local/lib/python3.7/dist-packages (from python-slugify->kaggle) (1.3)\n",
            "Requirement already satisfied: chardet<4,>=3.0.2 in /usr/local/lib/python3.7/dist-packages (from requests->kaggle) (3.0.4)\n",
            "Requirement already satisfied: idna<3,>=2.5 in /usr/local/lib/python3.7/dist-packages (from requests->kaggle) (2.10)\n"
          ]
        }
      ]
    },
    {
      "cell_type": "code",
      "metadata": {
        "colab": {
          "base_uri": "https://localhost:8080/"
        },
        "id": "915LUyrTEb0s",
        "outputId": "5c53607f-02b5-423c-9133-1b50b7a53ba3"
      },
      "source": [
        "from google.colab import drive\n",
        "drive.mount('/content/drive')"
      ],
      "execution_count": null,
      "outputs": [
        {
          "output_type": "stream",
          "name": "stdout",
          "text": [
            "Drive already mounted at /content/drive; to attempt to forcibly remount, call drive.mount(\"/content/drive\", force_remount=True).\n"
          ]
        }
      ]
    },
    {
      "cell_type": "markdown",
      "metadata": {
        "id": "k69TjOSZEI4S"
      },
      "source": [
        "## 필요한 모듈 임포트 & 데이터 불러오기"
      ]
    },
    {
      "cell_type": "code",
      "metadata": {
        "id": "nZJU3Le0Cmbo"
      },
      "source": [
        "from sklearn.model_selection import train_test_split\n",
        "from tensorflow.keras.utils import to_categorical\n",
        "from keras.models import Sequential\n",
        "from keras.layers import Dense, Dropout, Flatten, Conv2D, MaxPool2D\n",
        "import numpy as np\n",
        "import pandas as pd\n",
        "import tensorflow as tf\n",
        "import matplotlib as mpl\n",
        "import matplotlib.pyplot as plt\n",
        "%matplotlib inline\n",
        "import seaborn as sns\n",
        "fig_dims = (20,10)\n",
        "from sklearn.neighbors import KNeighborsClassifier\n",
        "from sklearn.model_selection import train_test_split\n",
        "from sklearn.metrics import accuracy_score\n",
        "import xgboost\n",
        "from xgboost import XGBClassifier\n",
        "from sklearn.naive_bayes import GaussianNB\n",
        "from sklearn.naive_bayes import MultinomialNB\n",
        "from sklearn.naive_bayes import BernoulliNB"
      ],
      "execution_count": null,
      "outputs": []
    },
    {
      "cell_type": "code",
      "metadata": {
        "colab": {
          "base_uri": "https://localhost:8080/"
        },
        "id": "YDt3losnECH-",
        "outputId": "95bbb22d-5da0-4a2f-e4ac-011e5834d5cc"
      },
      "source": [
        "DATA_IN = '/content/drive/MyDrive/Colab/KaggleStruggle/dataset/digitRecognizer/'\n",
        "import os\n",
        "for dirname, _, filenames in os.walk(DATA_IN):\n",
        "    for filename in filenames:\n",
        "        print(os.path.join(dirname, filename))\n",
        "\n",
        "train_data = pd.read_csv(DATA_IN+\"/train.csv\")\n",
        "test_data = pd.read_csv(DATA_IN+\"/test.csv\")"
      ],
      "execution_count": null,
      "outputs": [
        {
          "output_type": "stream",
          "name": "stdout",
          "text": [
            "/content/drive/MyDrive/Colab/KaggleStruggle/dataset/digitRecognizer/train.csv\n",
            "/content/drive/MyDrive/Colab/KaggleStruggle/dataset/digitRecognizer/test.csv\n",
            "/content/drive/MyDrive/Colab/KaggleStruggle/dataset/digitRecognizer/sample_submission.csv\n",
            "/content/drive/MyDrive/Colab/KaggleStruggle/dataset/digitRecognizer/test.csv.zip\n",
            "/content/drive/MyDrive/Colab/KaggleStruggle/dataset/digitRecognizer/train.csv.zip\n"
          ]
        }
      ]
    },
    {
      "cell_type": "markdown",
      "metadata": {
        "id": "5i7wq-E3C2aX"
      },
      "source": [
        "## 데이터 확인하기"
      ]
    },
    {
      "cell_type": "code",
      "metadata": {
        "colab": {
          "base_uri": "https://localhost:8080/"
        },
        "id": "t23LDI6Ha5fT",
        "outputId": "b49d1112-517a-4a1a-e407-b362dfd1e0b5"
      },
      "source": [
        "train_data.info()"
      ],
      "execution_count": null,
      "outputs": [
        {
          "output_type": "stream",
          "name": "stdout",
          "text": [
            "<class 'pandas.core.frame.DataFrame'>\n",
            "RangeIndex: 42000 entries, 0 to 41999\n",
            "Columns: 785 entries, label to pixel783\n",
            "dtypes: int64(785)\n",
            "memory usage: 251.5 MB\n"
          ]
        }
      ]
    },
    {
      "cell_type": "code",
      "metadata": {
        "colab": {
          "base_uri": "https://localhost:8080/"
        },
        "id": "kAjYHd1fbALz",
        "outputId": "f2a4fc72-e25e-45c0-84bd-bb58d55952d3"
      },
      "source": [
        "train_data.columns"
      ],
      "execution_count": null,
      "outputs": [
        {
          "output_type": "execute_result",
          "data": {
            "text/plain": [
              "Index(['label', 'pixel0', 'pixel1', 'pixel2', 'pixel3', 'pixel4', 'pixel5',\n",
              "       'pixel6', 'pixel7', 'pixel8',\n",
              "       ...\n",
              "       'pixel774', 'pixel775', 'pixel776', 'pixel777', 'pixel778', 'pixel779',\n",
              "       'pixel780', 'pixel781', 'pixel782', 'pixel783'],\n",
              "      dtype='object', length=785)"
            ]
          },
          "metadata": {},
          "execution_count": 6
        }
      ]
    },
    {
      "cell_type": "code",
      "metadata": {
        "id": "4Aoze28NbNEv"
      },
      "source": [
        "X = np.array(train_data.drop(\"label\", axis=1)).astype('float32')\n",
        "y = np.array(train_data['label']).astype('int64')"
      ],
      "execution_count": null,
      "outputs": []
    },
    {
      "cell_type": "code",
      "metadata": {
        "colab": {
          "base_uri": "https://localhost:8080/",
          "height": 262
        },
        "id": "GErUQkCgbNIP",
        "outputId": "e549ee6c-a593-4a67-c8af-a12f7ad218c7"
      },
      "source": [
        "some_digit=X[30]\n",
        "some_digit_image = some_digit.reshape(28,28)\n",
        "\n",
        "plt.imshow(some_digit_image,cmap='binary')\n",
        "plt.xlabel(y[30])\n",
        "plt.xticks([])\n",
        "plt.yticks([])\n",
        "plt.show()"
      ],
      "execution_count": null,
      "outputs": [
        {
          "output_type": "display_data",
          "data": {
            "image/png": "[encoded data removed]",
            "text/plain": [
              "<Figure size 432x288 with 1 Axes>"
            ]
          },
          "metadata": {}
        }
      ]
    },
    {
      "cell_type": "markdown",
      "metadata": {
        "id": "Ucz02968Arp1"
      },
      "source": [
        "## Classification Model - K-Nearest Neighbors Classifier"
      ]
    },
    {
      "cell_type": "markdown",
      "metadata": {
        "id": "K2MaIFMsBusZ"
      },
      "source": [
        "![image.png](data:image/png;base64,iVBORw0KGgoAAAANSUhEUgAAAk8AAAIDCAYAAAAdXfp5AAAgAElEQVR4Aey9f9Al1V3n/8zWEsJW4bqVitaalBU0ZVKlSIqqxThG15qU62QZBUuNUIlKzDox/IGVEFgjCTpIiIIph0pAtBRxK0y+Tp4MISEkEKQmg5kUQSITAwQGXAqSCj8yoxncZ3Dkuedbr3Pv59zTfbvv7b63u2/37fep6qf7dp8fn/M+3Z/nfT7nc85ZcwpCQAgIASEgBISAEBAChRFYKxxTEYWAEBACQkAICAEhIAScyJNeAiEgBISAEBACQkAIlEBA5KkEWIoqBISAEBACQkAICAGRJ70DQkAICAEhIASEgBAogYDIUwmwFFUICAEhIASEgBAQAiJPegeEgBAQAkJACAgBIVACAZGnEmApqhAQAkJACAgBISAERJ70DggBISAEhIAQEAJCoAQCIk8lwFJUISAEhIAQEAJCQAiIPOkdEAJCQAgIASEgBIRACQREnkqApahCQAgIASEgBISAEBB50jsgBISAEBACQkAICIESCIg8lQBLUYWAEBACQkAICAEhIPKkd0AICAEhIAQCArfvXHNra2tubeft4V5VF3XmXZWMykcIFEFA5KkISoozgYCU4AQkuiEElo/A4d1u60lbhuQHAjQHCarz264z77LgB1kMJztv2equPTyZW4i/dbd7bDD5XHf6hYDIUwvbO3ykc/T8QtqCH3jZ+AZXSDdFxhDHlJKdc5ST5a2zEBAC5RHI/d7W1tzW3RlsIKeIkM+Ubzsn6czbc+d9+84RIdzpqrKHBVlML6XPCR162O3eOiKjifszqlyD3DNK1OOGEBB5agjoMsWEj7q08sr5wHM/4Jz4BYQtImOIk1ZK9ruMEjKZcutiEXQWAj1EIHwXk8NtfIciT5PvRNBPKT0U7pcknZMlOOdCu1RH+jLL0c3GERB5ahzy2QWGj7c0ecrJu4YPuIiMIU6VyqmGuuSgpttCoCMIlOgEhe9nZEWhI5P3fab1TzpteH672znqEIVbzrnDu7cOrUVR/kEnxBHT+aZkCmms08U5bb3OGK6cRRhDvpF81uDh2dqY9IR7sexuXHc/RBrJFeLnyT2j3s6N2nXLVvcHTzw6tnyl8DGZx0QtZ7h2DoxC3rqYQEDkaQKS5d8IH134SIt/ROm04XfOBxyeh7Li3tIcCjaCL+RdUDlNfPwpJRHyy6nLrPSRaLoUAquDQPRPcTphSP2jj7+j6PsP31l0LxChOM3amhtGGecbJSlInsZpPfmI8x9lFuSJn0UkJfO7H8WdhkfIN0M/hTyjckL8UMkc2Uf5hfiZcuekJW7IPyLFcR52HeJFRNWejc4hShZRG8WZhtHqfCTV10TkqXpMF84xfHThzS/+EaXTht/xRzWPQiB9kAdrdE7vJqp9iFNIOc1WJiG/zLrMTh+JpkshsDoIROQp+kQz6nfYXXfRnySdncM/1WkWlujbigrgexz+HD+PHhckT8VkCmQmsgQNKzjWjXHZLmAyrlcakKBPsvRTSG91zNB5IU5UxuHd7ow3XTHGOANfk3t2W4zrFlvaJuUe45/W0UNMxvmUxSiNmX6PERB5GmPRmqvwcYQ3ffzyT/+IMj5wapX7AWfFL6bMJmWchC/EKaScipWbX5eC6SfF1B0h0G0Ewvc9/kefX6HoH23cCYlISfhuTf8YSYg6Xcn8x3laEp4Ha1X0/U/k7TMap09anyJSEuoY3RsWMjm7MK5XrsyR7ovkC/WyOgfrWhTfKhnFQW67HfLgIk9uH2lWvcd6P2EdSudpcuTV1Z7HuMTXeekSFdGPNAIiT2lEWvB7UsEU/Ij8t5phEUp/bFEdJ8vi4ayPOkORRHnaZci7oHIqUu5iysgk01kIrBAC0T/HxD/ZiSrmfdfojDEpCd+tsYEp+mNYxDhfS8L9YuRpnDZJnJIy5X73Ud0n02f4RkWYhHpm6Serc0QsQvy4khYvIiOJNgjPx/imMZuU2+IW1Pu5ZYwquwBGEVy6TCEg8pQCpA0/Jz/Sgh9RJeSpmDKblHESuRCnkHIqVm6uEs0lfCklPCmm7giBjiMQfTtZ35rVLuufbMa98N0aSbB/vhGRsCyH53H5loT7hchTRvmZ33hWvGEhQ8tTrmxJSeNfoZ4ZmIVn00hlnJk5d0OiYlny5M66P3GvoN6f1T6znifqoR9FERB5KopUg/HChxs0UcGPqAryNPEB+0wn1liZlHESoBCniHIqWG6mYqXoouknxdQdIdB5BAJR4Z930BvDavnvkHsZ30j4RqeShDE5ivOmzKGVZayfwnP7h4080fcfyjMZC8oUZI+Jia9etmw88phEZacbOciSihPup5YqCPdj2RNpx7JYlFy5C9V7jOt0a9a43ID/qP7DdNnPi2CUxky/xwiIPI2xaM3VxEca9Wqmf0Q5w2n2oU4onoz4FjdLmWbdC1piEr5Qj4SCicqMlVPBchdTRpMy6o4QWA0Exv9oJ4eBRoQqJjTRMNMwvg0VRd9n9G0nyFmU1vRR3nOfd/T9B51geReUaWJIP9JlRctOt3OQJapPAjuTcZQwxLf7QWeNXCVCPmMsc+UuVO9xmxrOXpRQ7ricPAwsXd7zdPukMdLvfAREnvKxWdqTiY90UfKUHtKKFM9EWYU+6mwFmwYs5B2USkrJmBIiYcFyF1NGaQn1WwisFgKZ/yTj7yz84x1+i1t37x6t0TT+Rxy+2zidWXLibzn1PKQjztbd7uEnrh8OqU0jT8BfQCbfSnG8SIdNPDMZU/KlWzohr6XhnM57lDDEj/KdxHuMYygvT+74vu9IptuiOHmirAlZIjm9LKnyPHFKxwlC62IWAiJPsxBawvPJj7T4RzSZdlSB+MOJlENm/Dhu5ke9IHmKyk/AW6BcHz+OF+cV38+RO1GefggBIVAfAoPN+vJWzkJgyQiIPC25AVS8EBACQkAICAEh0C0ERJ661V6SVggIASEgBISAEFgyAiJPS24AFS8EhIAQEAJCQAh0CwGRp261l6QVAkJACAgBISAEloyAyNOSG0DFCwEhIASEgBAQAt1CQOSpW+0laYWAEBACQkAICIElIyDytOQGUPFCQAgIASEgBIRAtxAQeepWe0naGhF40Q3cg3fd5D5y6/2OawUhIASEgBAQAlkIiDxlodLje5tf3ePOOusst/OP9rl/HeHw74992v3GBW9z9zy1sdrIDDbdDRe83m19y9Wh7qtdYdVOCAgBISAE5kFA5Gke1FY1zWDTPfm5K90pLz3Fff+rf8rte/BffE2PHLw+8XtVq+9G5Om/X3ijLE8r28iqmBAQAkJgcQREnhbHcKVy+PrHLnE/+7M/684551wHiSBAnt6w9Y2BTL347N3eEoU16vx3f9hbaZ5+4BPu4ve81x3aGG7JwPAXz54e7dBwcP1D7oq/uDOTlPi4553vzj/vfPeujx7yZX75zy+K0h921168091w73POHfuO+/i1l/nyie/vOeeQadeuXe6mm24KzyB/5G1ymizcQ5aQz7s/7B557rhLk6fBC98IcXacf/HqW95W6k1WZYSAEBAC9SEg8lQftp3MGfJ05rbfdHd+/k5PmPY8s+E37R2Tp8Pu/b/y4+5tHz7gnvune8M15OXs1712RGY23J5L3+Re+aPnjQjHRoiXBsWI2Z4DDweSBiFiqPCHX/0ad/lnn3AmE8QMknbznpvdU08+5SBYlPF3xwY+/taTtvght0cffcSXf8p3v8YPP/L7kp/5Ibf98lt98QeuvcBb1yBQPKM+Zm1Cbk8aB5vu1qt+zef3+OOP++sz3nSFe0yuUOkm1G8hIASEQO8QEHnqXZNPr7ARFUiC+f9AWCBPnzl6wg/rQa7wf3r++ec9geG3xYdUucERb7G5+N3v8mQKYoU1y4YBxxIMSRZkhbw4IDJGciBHZ5zxOl+2WZiwDhGIi1z4Z117eGh5GpM35+VEZogVwYgQ1+RrMvPbCBxxjTwNjt3vLvjpMz15oyzIHGUFOXyu+iMEhgjs37/f7du3T3AIASHQEwREnnrS0EWraeQJKw/O45AXhsMgIhAmnmMRYsiMg+E9G57jGdeHDh1y1130J46hOsgUflQ4YduwWZBlcMQTNKxHlh8kC4sQAQKDNYnnZvH5zrNfd7//9jeHss03K2n5GhIiZDPyhLUJGQiQp9gp3MgT5NDIk+Xn6zeqK4RrkgD6LPWnxwgcf+G4/z5eddpp7pmnn+4xEqq6EOgPAp0gTygkev8K9SNg5MlIxx1Xne34pwCBiS1PRmZiiSBbkJ8/vPqDw+n+z97tLrvsfd5fyQhRHN+5DU+ezNKUfoa1CPKCRcl8obCGmS+WWbSyLE8QImSxeqTJE0NwRuYgd2aJMvJklqeEpWlk9UrKqV99R4Bh5LW1NX/Q0VAQAl1BAL9O9/m7nPvSl5z7txe7InYr5Gw9eaJXxz9QHIEVakZgsOktS+ZHRGkQFKw/+A9BniAV+A+xlMF99/29ty5BjFgXiQ+RYTfIFoSG38Rd27I112IDcYHksLbSwYMH3XXXXefjch+rkhE2szBBbiA+lM01clEWw2rIaWSH9PGwHSTQLE8QRGSkDpRpPlzUwYYqIXbkj6P4HV9+wDueX/KBvxw6ltfcDMq+OwgcPXrUW2KNPL3su051Dz30UHcqIEn7gwCdPztGtabD69bWnPueNzj3tWPLxSIl23KFmV1668kTpAnFxPARikqhXgTwI4IkxJYlht+YSednpI2G0/BneueFF/q4dh/JmMkWz7ojrQ3r5UlOmeTFAYk6vnnCD60ZKTMfKp5ByJh5R1zeDQ6GEyF1H7jySn9NOZApiJjVw2bY8YxhO0gRz8mHcvyaVoPNBBm0colDnRiy0+KZea3Yz/tYVr/vFS/3ZJzhbPQUnb0TJ070ExDVumUIbDh326ecO/s0537gB4bH6T/i3PUHvKXJk6f//J+WTp68HMiFjD/xdueeaf/MnFaTJ4brUEbWq+Ofo0KNCGQNS43uJUhDVjwTK37Gdfzb4sTnOM4obqKsUdxC96KysuJbsQzhYb2yRUBnymgJo/ztVuHzX1/q3M//3FBpFU6kiG1GgJmaWJoYqoMwYUHFaXzLli3utts+02bRJVsfEBgcce59Zw8tS1iX0sfXjvlOpls2eUKvfuitY/lecrJznz3c+hZqNXmCLKGIIE8oKXp4Mom3/p1qvYBYobCuBfJUkcRYv3wvj54ex4PR8M07zhwqh18cOq1XVGT5bFCo+DggH2f5OZTHcJSCzh3WS3MtYDYmAWsokyYUhMAyERjcfvWYkGDNwa/pK18Zfvt05KaRp29+c6i/0GEcWXriscfGcdLPLV1e2ggYrzd/+NSh9Qu5IHm/+edRjHZetpY84dPCStcscMiZYSLM4vTwUFYKQmAuBBaxHuUVCCG56irnUABx7+7l/3VsabIe4JKVwuYXd49l7EgPLw/2Nt3H6mTkqU1ySZZ+IuAdwRmqQx/9yC9lD4MNhjOqE5YndNlHPzqpy7a/Z+wTRRws6egP03foNQiUPbP7xPndv8kmX6OmCSTvF6/2M7x9vm3wwZrx6rSWPP3xNdd4ZYSlCfJEDw+TOASKRQsVhEArEEibnBmzf/3rhwfmcBQXoQ3kCVlNDmRDwS2ZzLWiDSsQQuSpAhCVRWUIMNHHkyK+cchLTkj4PHk/o8ND4gTpofPHYSRppCuCkzk6BH1nw37PDFzonJHOnuWRN2RCJ5lV/voD3qc1dELxy2pxaC15wiTOKtJYmRi6g0wR8DOQM2aL36ieiRaUD0oK03g0YwWndffx9SEiRloisuJ7h1isLn//8OA65SjpTdr2fPe1ieeJZ6SNyp5ohsGmd6r3ioleHXkh8zTFNpGJbuQhIPKUh4zuLwOBQHAgPlNISNBfZukxK3rsc4SVyfQbfMeGA9EdXzs2JDw33ji0LsVxeYYrA89Ses0wSQzZWRzzf8La1eLQWvJkmLG+U0ye7L7OQqAVCBgpoqc1jbxYvLj3lh7mMwU1yseTL2agcN+Okc+Uf2Zm+fhZ2vcgAikovV+8ekykZijXKLkupyAg8jQFHD1qHAGvH7AIzfi+J8iTSQqBeeO24WE6aNTRCoQHvQPpesc7gu7z5Zpe49lFF+USJ1+UkS30J/5OHFbeLJ1qsi7pLPK0JOBV7AgBLCIvfMMPycZLHiyCDzPtcApnvzwL/MZ6yb1pM/EsfrHzxnAKMEoEq9MU4hKGy0bkKRCZC359qGBQQDaUZj1FI1woLZQQyoxyCNY7s2coHZ5Z7y1dgZR53D+2/CFk02RP56XfEwiIPE1AohtLRCBBcKZMUkmQp2cGw04V5AXShfsBOsfIzIg8Dat12Dl0lxElno06fb7s885LPsvSS1i50h1A6whyRoYpQ45LhNcXLfK07BboZPnDfe2qIiH0VvBlYxPgasJw5XJbiZz8+efGDDsWvKxKbu8caR8/JuZpBMSIig3bMZuFmS+WJlYkFicmSGYeZ/YKIX722cND0/mUmS1BmdKbwyT/7W8PnT6t9zjNalZNo6x0LiJPK928Hazcxti/kW8eEnL8uD+Cu8DXjg0dtCOfpdCpgwyhm2I/ydE9T7hGHTzvW2UECr3CLN7RkJ+PFz9LoRisY8iHGwHDe3bYrLtpHcJUfk3/FHlqGvEVKI8Phr3oWP27isBHFG/qW0WeIY/BZtjMuNKlCVAqsTXHlE0oOHWRJk+DI0PfAVMu1tPiPCJPXjEZOTOSM1JM056lSh7+NLJFPihLO/jNYdauzMS6OQuBVpOn0T/NWXXQ89VCwJMT0y9YcSApdvDNf/Zwcp2n2OGb+Dh8E990BDqOEA+1EcfyZukC9Iz95hlpySOrc2Y6KcO3yTueWz4jnde21hF5aluLtFweNuZlCxPW3GKVbludG8uGrfzNitys+p0ZRqt4J1btfvbuiDxt+CE3nnOwqriF5/7p3lAG982CxCrmlp+Vyz3isHr5BT99pt/GhZXOWYOH4Ts2PvZhcMR9/NrLEkN8Vl6hsykAFETWRw7BIqTJk6WjZ0Vv689uGJu5zfJEOixSTB22GSnm2DnrmS90+CcxbdkUYfqMHGYFi9LqshgCrSZPB74wfMeKVUWxVggBT6BM98TfPEN5kCW2ZzHLEwQHfWO6ifgQGKxAxBl1EBOkjDjopFHnK+RnZfGM9eQIpgv9dTRkl9lxG836I5+WDt2JPA2bVX+LInDsO96Sw5o2kJODDz7lx8nZHw5ywl5xbOjLRru2KW+ctW08jO/RwX0fc2yqCikyyxMWFcgNw2sQIMphvzrIGdYuyJrtgQcBYg8723+O/IYbCG/4/eoYtoPssUcd+/VRJmSKsmyIcCGr12DT7/3nFUusRFiMjgMlZP4GpsA8MYp8pfj92GNDJWa9RCNPpEdxPPbY0EqFAqMchueiZ76XZs8yCJxXdjw3gkcP0Y64F5nVO4wbT9e5CLSaPDFbE98VLFAK/UMA0oLOiA8jMse+M7yPPrDOUxzf7pu+sDjxIppcx4G4VhbuAZlhYxzH8kzHs3zS+afjLem3yNOiwPOi0cg9CVh7+GfMPwsbtjNCZPvI0XthQ+C3fTi5TgcWkMT90QecS2CifCBPbz39ZJ+nWZyAnH3qbNPgcRMkfZ7S8kGm2CSYYTyesVXL0yMD0TiPglfUAQJi5AVyEx9YdAgxeSKN/Y7j2rWRJ7M22X3O9P5QeFnpeZZ2zKQs60lmmMeDLxR5t7SHV7Allhqt1eQJ4sT72SM9tdSXoa2Fj/RtYfHi+PE1GfA7fS+d8aznFr9oPIvfkrPI0yINQaPDrJkpxT+0ngTIzhu2vtHteWY4NHfHVWd7MjImIEPysv3yWxOI8I+aITSz+tjDJHna8MNoWJk4cCT31qSR7xJWI/5R7fyjfZ78QMggQ8iDtcvPsBts+qFFcxiHYPHMhuqOHLzex2eIjyHINMkzuQqfeQ9w/obsMM5vB2TF/mFBYLg/Iih+KA0CZHEhWVgIojjg4me6WBzyG/Xk/DNmw2Q8S8iNGd7kyjSPbwzJFflo1l0CujI/WkueeP+M2DM8rCAEhEAlCIg8LQojswsYDrFx3UXz60B6xrUhK2Z5MnIy0/I0Ik/DobVxRWPyxDAcQ2wQGwgGw4EJcjPYdJCfQKosm8ERP1xIWkgSpCiPPDl32JO4i9/zXr/dz74H/8Vymf9svSfOdsS52T2LZ8/s/qzf6XTEt7RZzyw/zpjFZ8XheZ75PM5L15kItJY84UtnlkumjysIASFQCQIiT4vCeOlo9VVWeO5JwC8JCxAkiLWZ+I1FCZLD1jkHrr3AW3rMeXsMy0bwh8JXCv8jHLgfe+BA8HliGA0CxHPWZnrVaaf5fCFY+DuRP+n4Z2V+U/heWbkMwUHiYvKEPEaqTBYIH5tNM3w3tpjZU52FQDkElkqeIL34M8Vk2q4hTEaesC7iP2LP7KzZeOUaW7GFgHNO5GmR1wClgz8ByqlnDpk4czOsZsNnkBs2cebAgXuSOI2AHlmISEtcCBDDeWz87C1Ao9lvPGNdpj+8+oPDobhj3/HDeVYGhIl/Ajib//7b35wsd7Dp40K2CJAw8opJEvJuPWnLxBDiIq+D0vYXgaWSJ4ZyGfJlVhRkiYMFDDnbkJ0RKPSUPYvjMuxcd0BOLPVyXK8baeXfAAIiT4uAjMIx5cSZGQYKiyEw6g17p3CunQtLEsyVsfWuR3lZHmbhypoRaHF0FgJFEVgqeUJIdJF15IwoFTnjcsD+i6nvo2i9S8XDtQE/vR75h5bCR5E7hYDI06zmwiSOqZteU3ygABiqixUUq6RyP47HNemb8iehnCYU4SzcWv18OHzIMGM8c6/VIku4ViOwdPIEOlh0sECxNk+sl/KusVTZhIYm0DV9yTIeCkKg4wiIPM1qQBQSTpfs70OvKT7otcWKid/xc7smfd2maggTipAFFUWeZrXq8LlwKoaTYs1EoBXkyaTEkoR/U6yb4mus5JCsJi1A6D/0IXLgJ6ogBDqOgMhTkQbEeoSyiRVQ0Wt6W00pKUgaCqpuolYEM8URAj1CoFXkCdzpROXpKJZWaTowrGgWMXRUUzqx6Xp2rDz8TX/prl9237N/d5g93bEqLE1ckacy0DNmbztM5ykmu0+8JpcvwIqCIyjlN+H8WQa3GXHvueced+jQoRmx9FgItBeB1pGnaZ09yEsdYZol14bs0E9YvqYN3U3Lpw65VzlPj+WG+9wT/8f93sN7wmHLzDBT+sxP/w/3Hz/7u82Tp8Gmu/ebnw4yZcnX5qYReSrbOvgvMUvFelFGluzMfZ4Tr8lAeWaqR3F2KOzatcvddttnOiRxeVGPb55wR0/8qz/Kp1aKtiPQKvKEVceGyNBL6KTYxQDyUkcHC7cBSBL6h3N8pDud+FvFz7lmOA/rOZZ+hUoQ+Ma3b/OWpbW929yWm38sHJAlFjnG8rQ88nTEXfGlC4NMJh+yIt8fPPFoq31SRZ7meUVREkZUjDTZmftNOmGa/EwBNhk6tmzCZZe9z+9XZ1VZufNg093+9Q+6U279Bffa+29vtUJYOewbqlCryBNWHQgS+gB9hA8UZCkmVJCVqgNWDshPTNRMJxU5m7VelqeFW4aJMBCjn/zMLzvIyKm3vcX91gN/6i558K/dJV/e5b739l91H3rm6aWSJxZBhjytrW/3w4bIx2EyM5QYFl5eGJHqMxB5mgdTlNE0y1Ndw3XTZuzhx2AKalrPEsXUJuU02PRrPD366CPztESr0mCCNgXA+eLD+8PaUutf/d9eiS2FPI3M47Fsdo0CVVgcgVaRJ4gRuoBOVGxhwqJjeoJn0/TJIpCwZAuWJdNHRc4XXSSL0yKYT6TdcNd/5RKvc7DipL/zx48+6onJxLDdYNN964WjPu1PHPgdt/1LVzjOWIHYC9QCG65DwixObCVKP6PszFnNg6HlCXL31sNftazdw09c7+WGPNmWWuFhiy5EnuZpDD70WCGkrVB1zSahR0nZHJQRH+neHsoL83kcB8XJcgotMoufOHHCL3D5zNPd/Cc+VAqHvSJ5xb6kaRyl8N/uvckTKCxP/F4Oeco2j2MmP/lTb3b/8x//NqEY5/kk+p6mNeSJITuIEf6Ped85OgCdFROrqhuQSSuQOLOAxfoyvjbLWNXl9zk/3zk+PByuW9/udU5MfAwadFeaPGEN+l/37EwMpaG30BMQHLNo4WTOfRtqg6BBdGJrlz3LtCD5TvyIPK1v93ryr56823FQPuXFhMxkbtNZ5Klsa6CQbPwe6xMKAn8jzmaN4nkdM95QjHE5sRIqco3Z/sAXyta41vjPP/+8X6mccyfD4Ejo4a198lyvBMzxESWA4mBl8zaQJ5Qd8sTycQ/FZw6knWyDFgjdGvKELiqyXAnD/NOctqvCdNqsv7oJXFV16GA+RoqM9ORVweKZDjDyRIfqzmf/wR9YsCBCpsvwo7LfkB0s7lioIE9YjezZJ751r3dUpwOZaUEyy9P69gQRQycxzJi2luXVYVn3RZ7KIs+QHEQlq8fEcJ5ZgOpUTBCg2H9hFnGC1GGBauH04KeefMq988IL3fEXjpdtieXHH2w6FAkWp7VbdngLTrwFjBsccf947EnfW5scttvwaSFYmL5Pv/u3/RknzmDiHuVPHHseTODTnqWRMSW1d5uX0R4Pnt3jlRaKk3IV5kegNeSpTUPywHnjjUkrfayr0JV1Wr/mb85Op4wtStPIUxzPyJNVnGE9yNOBIw/7zqERIkiQES46i5As4hg5Mn1IufYs028pZXn6wbve6QmYDRNap67Neknkyd6WomeGviAueVuxmGMmQ2t1BixglGHWrlgpxddYwehltjSwRAH72jF818VgpCitfNJ1sXgM2xE8cVnfHszeKCdTGNbjMkXEfZ6bAoOg8YxZMuln2Ypq7FtA7/Ej//d2f0DKTAFmmfXTddDvfARaQ57yRVzOk1m+T1jSFWpAYDxsB4nJC2MjNvEAACAASURBVEaEgv4aHPHWIq9bsAhxfPJcr2fQHX47q5EPpTl2Ewe9NtQ9w2URTDfxjPITnUoTJurUxT5PziVlb6tuEnmyhixyxsESM3SeL4HlgekcK1QdQ3dWhp1RPjFZiq+xjuWRPEu/5DNrPLFUQSfJU/Txm0k7D840eYL8YE1iXJ+eG708T2Yi65Clwewdm8DjYcD0s6nkKcM8bj3TYO3Kq4DuT0VA5CkDHnSPWeLRS3Q86cjhk2V6iusm9GSGeCt9K9JNWZblLIdxunWQKSzppIEosbwKLgfWccPCxNCeJ0Mj67cnSp881+synM2HZGfDD+fxDB1jHcKAeWx5SjmMY7H3unCKv1bIZ4kXIk9lwC9rEi8bv4wsFnfaYngorpaTJ9Z3+uNrrrHadOscKagy5GlMVDbcvf/8yAR5Mqdym3XC+D8z9yBZ1oOb9mwCRJNzfbt75R1vT5rH17cH58yJdLpRGAGRpwyocEyHJKGHWMLAAp1P3AjMaq6hO0Om0nNsuYYM+WUKpixVAFkiDUTJ4uMfaRYmdBydM3QPHT/yC8/Xt3vyBNHCDcH8Kn3aT547SZ6oaaSXyDuWD4s6pIvOZVuDyFNbW6aIXPgwmfO69eTSZxRYi8PNe2521113XYslnC6aWYesp5YX2+KFYbtj94cZet40fsuOoXk87m0Njvhen/ep2rstOcQ2Mq+nnxm5SshhSiqyavnn0f1Z5C+Rn35MICDylIIEaxJWJVwcssgRHUvzEYVIKVSLgO+4D4fQIDA27G9n9JX3r4wsTcNJI4cnZttBYoxQYXkyUmZ5QXSwgBuxsvuc0W32LF1BW+cpjm/XdBgZ7mvrkB11EXlKt2iXfpvzOoSJXhw+UCik2Jm85WZxiNNNN93UJdQTspoFCL8Axu0TH3uOwzjrbEGmUBSQKUzjpkhQRNwjn9gEzvYKECWUCkov79mEeRxpI5KU8H8YbIaZgtarTFROPwojIPKUgoqFgossi4JlnHgauksBWNHPwXCY7ZpH14NlB6uQza5F7/AMy7Y5feNzRByzLGHxtjjDztlwSM4sRfF6dugadJU9w3KU0ImJaiXzsTSxfInoLfsh8tSyBiklji14h28TvlgW8Lmyfe4gVS0euvvAlVe6vXv3muQdPA97amZmppdlJmvG7c2iEy9V4NzGcGXd0dIBKCbSsAK5kSeAgGCRnz2P/QfIj5kp8TMI3CzyhDwmH4vcecvVyKkzX8l1sFkaFlnkKQV40QU4sZBwFI2fKqbQz7rzLyTEkiIZvpzjEN+3a3ue/s39UXpzOfDn0T1LljhbHoPN8ezhRIQZP6blPSNpU49FnppCuupy8BuANGFZyiJHvHz4GbBIXYv3urv4Pe/t/L52OFmas7eZnTmbOZveWmxpQhFhsYK4WHziQp7MGoVyMkfNEGc0pEd+Wc/yzONmebJ84jMmedKNe51Vv6j9yE/kqcXtjK6Mfa5aLKpE6w4CIk/daaukpKwjxUy7WWs3Wbw6e3ZJyUr9YpmC/fv3l0rTpsiQHOuFYa62bU/S27PY1i2xA6Tds7jMuOOaOORpJnXLE/O4WYeynmX6OwGWtmep/ZUReaod4vkLQAfiG7qMPUfnl1opW46AyFPLGyhXvDI+AsStmzzNYWZleQLI0333/X1uNVfqwciU7clWXLHRfW8at2t7nv5t9zlPexbHs2vip0PZPNLp9dsjIPLU4hfBlnPBH1RBCFSEgMhTRUD2PhsUU8me3dGjRz15euihh3oPnwBYIgKDTcf2QIHUHj9eesX71pCnLIK8RGiXXjR42EKddS9cvPTKSoAmERB5ahLtVS0LqxYKqqRfAVuz4PPEWUEILAuBf3/s0+6yy94Xdpl/6+knu1O++zXu8s8+UVik1pAntkOZNZRfuFYrEBF/UFuok6E7YbMCjdqOKog8taMdui0FFicUFASqRMDixLAdFigFIbAsBA6uf8hd8oG/9MOgey59kztz22+6ay/e6c9FHelbQZ5wjGaZkjr31VxWI00rd9rQc3pj4ryN0WWxm4awnmUgIPKUAYpulUSAITvWmmL2Hwq8YMDXCctTJzcFLlhHRWs/Ak9+7kr3w69+jYMAYXG69jAyH3bnn3d+WA9nVi1aQZ5Y942lSfq2Xxw+negglm5hwc34iNe8Q0cxO5nZx3EchvPYNkYEatZrrucRAvWSp8Gm+/i1l7kb7n3OF/nlP7/IK6n/fuGNYZuJSJbMS3wRtmzZ0o4tPFBOrKGkkETA1ptCcZdwymSWHcMlCkJgaQiMFhG85Gd+yK2trTl0EzMav/6xS9yO8y8ebXY6W7qlkyf+8Ztj9Hnn9Y8IYP0236b0LguzfrMmnvT67JdcMRII1Eue3GFv/mbPHNbCOft1r3XnnHOue8PWN7p3ffRQQpC8H60iT3xk+BQojBGg14fFyRRUCadM9rUTeRpDqaslITDYdN959ut+1qct98DvMr54SydPfIdYVfgO+R5LTt5YEvLVFgsGEEg6caaPpp1tzz1ZnKpth57kVh958i/kYXfBT5/pe3AQpzPedIWHFQvU9stvLQRxa8iTLUpJr66Pgf2p2EYBp3AIpB2Yv2MFheImnj3nTBqOVO+OlcV37drVRzRV5xVDYOnkCbLEgrj2LZawANfeFHz3TTpqM0Iwa8/PPvqG1d7Q/SqgPvIEjoNNd8dVZ3tz+CkvPcUP37G43/t/5ce7Z3nC0RDFBDmgh9O3gAKEOJpyLnNGqWfsX8Wedn98zTV9Q1L1bQMCg01361W/5nb+0T733D/d6zt5Z5zxOhcfW99ydbuG7eiQ0onBPweCYAe6CT+e+JvkW7XndiYdcZvWX1iD4u2jmmh/cIot4jE2EKtUR64JkVTGaiFQO3mCLPFP8iO33h9WTWa45pHnihGQ1liezJ8AkzDKqI/BzOJxDzdWSlnXKKocvK677jp3856b+4ik6rxkBFjTCQv4FX9xpydPv//2N3uXAtwK7Dj/3R9uF3kCM1stO/7WygxTQWKaHKayZUxweWgyQBLz9BTDdX0c1mwS/x6UVS95AkA+VDvmALQ15Mn8CVBabdsrDpN4kwoRMjTLLA5O9H7zeniDTW912rdv3xxvhZIIgcURgEBxYHnK6swd3PexzPtZJTc6bDePc/SUTkxWfSq7x/cPiWnaYp+2xKUJJu4ECkJgAQSqJ0+DTa+MsCqgkFhDhbV8Esd73uv2PfgvhcRujDxBPvjQUUyc44PeXtyLYbw8Kx73SkzVLwRAkUgMiWGmbjJQ1/Q04Lg3jC/UlC1h2JoFf6d77rmnSalVlhCYQODpBz7hJ7NgaUJn8RtfTXw0W7nOE7oKK3Da3zD+/uJrZqHxvS4j2DImkBesQU0EOpOxbmI2MDo8no3XV9/VJvDvSRnVkyfn3JGD1/sZdfc8teFuuOD17mXfdWriYC2VVs624wPjo8OsS0/JDn7HyghFYM/sTJxplpa6XiiUKFYxCFTTIVZGMT5cz5CHtZ2YaXfoULFZl01XTeX1CwGsT/hi4vPEmk/4QtnMuyJINGp5igViIkZaP9m3iJ5i9muTztqxbFzbMibI1JTFno4k5VF/3C3MKg8ORjjBjA6yghCYE4HqyRMv6mBzuE/U4Mik2Zvn3/62Y3XpsJfUFOEbszwhA7IxJAUhMgVU9Lys3h2KAqsY5TcZ2PYgtsalcUKeKY6ptOs7L7yw1HTwJqunsvqFgJGnV512mvv+V/+U99FkvaeiYWnkiW8strLE3yEEge+07oAMWVZmyEo8vE8nL0sncC/r/rxyQ9LQ4TjIZ4WPftTtXFvz+ifrse4JgSIIVE+eEqUedjhixo6XmMRZ54meXevIk8lOjwQrUqyIpl3zsVb58ZscRc6M3SMbyqLJnhSWJcOEHh4YxJjNUNxsyfIbF7xNW7MUaWPFqRUBdNLWk7Z4PcUwHZZzllZp3Wy7LBSs82TfYvrcxCw3hgSxMNFhQgfYAVlCN5hM1smz55xJg3WsKt1FBxjdNIM0onuwMmprqKyXSveKIFAzeXLefwACxX5RnI04HT1RrF/XqOUpRgwyBCGYZl2BsDShnGK50tcoIJQTSqrJtV3MgT7u4dH7BDNTmFOcMp95+mm//UW6OvotBBpFYLRA5h1ffiDVmdtw1130Jw7XgyJhaZYnhu2MnHDG0mPfH7+Z5QahqDOgK9GDecOHsXzpa9MfVclIPgXywif3+17xcj8CUic0ynt1EaidPAEdu5bTs2P7A1scs4jVibRLI0/W5iif9Advv2f49VgWtZ0xi6N8TJ5pq3sXUCiF5bQhOwhUVg8PEocipVeZZc53zj366CMymxcGXBFrRSD1bTx4103uA1de6Rf3bT154hvj+4cw0XFBJ8REBv3Q1CQWdIF1qkwnTTsj+5Ic2e/8/J1+26+DBw/W+mop89VFoGbytOEXosOPgGE6lBKzWLBCFVVKSyVP9KimKQOcD5sIOLJD1LDk2IGCNOdHU1D0OumJ8szi8ZujKrM49SX/WY6oDCdgFcspF6XFpsAKQmDpCAw23eOPP+734WQoB4vEK3/0vFJ+T0uxPPFtYRnnSFt5mdlm/kZ5vj9VAw8JhbwxhBdbv0w/2Zln6K5luTqMOm905rFAKQiBeRComTwd9qZvFsi0wKKZ11680y9OV2TgbqnkiZ7UNCWAoybKou5QtkdnSsrOzDipUk6UdhHFR483p1x6fvTuFYTAshBg/zoW8MWdgBnA5593flii4LFBOamWQp4gTBCknEVovVWHzh9kpulA58r0T/qMhWzJAV8nls9hwWYFITAPAvWSp5Q5HAHxdWHxOZRW68lT7BSN+ZvhKIiIESp6fE2uXTJNIaUVFL8ZOmvSD6rEG8i+dtqapQRgilotAoNN9/WPXeLYNooJLXsOPOzzx8Vgx/kXF15Z3IRaCnni284aNjehONOBwVJcpLMTp1v0Ol6iIK2bWkCeFq2e0guBesmT4Ts44rfhwOLEmk8M28XWKIuWdV6q5cn8CbAwMQxlAWVkzpFN+z0xBGdlp5VS/Dsts8nekjPkmUNBCCwLAWbZMevKNi/nffz4tZf5WXZl1nhC/qWQpzLAZXRkyyQvFRdrc+yLGeslrtFNTZO5UhVQZCEwG4F6yNNg0zt6s3YKJnEUC6TJenlZWyHkiboU8oSiwZERkpLntwOZwmS+DEUwa3sUZG7KSTSv4Wbc/8OrP+iwPikIgaUiMJpth+8Li2Sip8xHEz1VdGJL68lTkyCjn8w6zxlLU2w1x2KPH6eCEOgwAvWQJ3fYXfIzP+QtTPgRYGXCvwAidflnnygF11LIExJiEuejn9ZDsvVNljFjxJYoSPfq+I1lrOWB1cXlb9DyRuqLeHSWvGVmw6/7c+tVv+aXVMFC/nfHijk/iTxFLwt6Ez1E5zPWRVjpIU48w4K+5IDfE76XTz351JIlUfFdRKAW8jQ4dr976+kne/J0yQf+crjK+OCIdxTvBHlCkWK5yZlmn2hoTNQ5TtGJeFX+wGF72tBd0zuYz1E3VhfXNOE5gFOSGhHY8P6YNhP4sQcOuG+9cLRQeSJPI5jQhVjjscpnWZdsBwcc2ad1TAuhvlgk9A+WRrkPLIZjX1PXQp4AE0uTLU2AYmG/KLY9YMmCIo7i1iBLszyZAG08YxWLLU4oq5hMobhylghoS3XwNdG+dm1pDckxROCwH7or28EjrcjT6B2CMNF5m2aNt2VMpsVp4JXE8sQQLbPuFIRAWQRqI0+xICxPgCMmw3YwfWaz2OyWOF7WtchTBirxTBau6e2htCBNkCr8DPKmL2dk1/StEydO+AUyWShTQQi0BQH01DyuBcgv8jRqRTptRfwtiVMkXs0vB+t6nXPOuTWXouxXEYFGyBPA4XgJEcIUDpG64i/uLGSBEnlKvXYQJWayQJDiHcOJhuKyGYItng7MchX09uRrkGpb/VwqArYG3Q33PldaDpGn0pC1IgE+uRAo/s8oCIEyCDRGnp783JV+CnAYsvMOmrNFFXlKYcRqwViYstZvAlP8CJjZwlBe075YKVHzfrKaM6uLQ6IUhMCyEKAjx6SFeEadvy6om2K5RZ5iNLpzzUK9uJSoI9edNmuLpI2RJxakY5fysuuniDylXhXIU5YjZiqan+XSUr+n++77e8dsO/X20o2m300iQIeOf5wM2+BGEDp2cwgh8jQHaFlJIK5zkNesrIrcowOHPjr+wvEi0RVHCAQEGiVPZ7zpCpGnAP2cF2UUS5HZgnOKsUiy/fv3u127djl8nxSEwDIRYGILi/ee/brXel9MW7yVM0usFCVUK02e0DmsZN7Ebgr4ajZRzjJfOpW9EgjUQ54GmwlTOEixYOYdX36gsDIydGV5MiRW58xQifa1W532XIWasNr41pO2ODaLtYPNgQ9tbBaq3kqTJxDAh7KJJVBwOeBQEAItR6AW8sQ6T2x5gFN4mdXEs7ASecpCpcP3Bpt+qx7ta9fhNlwV0QebfgILlqezzjrLzwDd9+C/eF88hnM4ZHlyw/Xu8KFkokqdM+Tw18Sfk6PpNaDKWPRX5f1XPRZCoBby5AZH/Iw6CBS9N0hUWV8nq1VvyBNKqaUO3tYWVZ3ZCoNDQQgsEwGzNuGLWXTplDx5V9ryxLpMtjI4Ppd1BcqxpVa4biigi5j9KzeChgBfkWLqIU8jcJj6y0KZ+BPgmMmCZBwslvmujx4qBGEvyBO9LMziDSqMQuDXFAmrk1b1rQlcZVsIAf5R4u/EQq1FrUvTMl5p8sS2KrYo76WXToNhsWcsvWLlcN1QYPIK+66yaKaCECiKQK3kCSEO7vuYX7UXwsSaGnbgjFkk9II8MSuOFcJvvLEIJJ2Pw6bA+/bt63w9VAEhYAh0njxNG7ayteMgNosOqU0rhy1bjDxxnRem5ZGXZsp9NijfsmWLe+ihh6bE0iMhkESgJvK04Q6uf8ivuhvvUJ4sutivXpAn226FzX4rVgzFUG4uFj1+nMXZkFNBCKwKAp0nT8xww6qEBZwDyw8H92zIzogNDt323OITjyG9WfqLjqLlO60cykyXQxmkrXhbF9vjTh26Vfkam6lHLeQJh/H3/8qPu/Pf/eGEw3i8GF3R6vWCPDGLBcWE9amlazMVba9Z8WhPzOSsraIgBFYFgc6TJ3wuISdGkMqe6fgVITWQKyzs8V6cRcsy6/wsglbypWLR3u97xcu9XiqZVNF7jEAt5InexzxEKasdVp48obSYxWIK5KMfzYJhZe7hV8Dq4trXbmWaVBVZpb3tbAcD00ezzhCaP7thtsUp/Zbg3xkP080qh7g1+YSyQOY7L7ywl5NY7v3nR9w1j66745vzrbn3kf97u7vz2X9It24vftdDniqEbiXIEw7hWJQgSvHB7Dp6YexTZ8qDHhz343hcW/oKsc3NCnlrmirM9G8UlbZDyEVfDzqIQOctTzHm6Bqs4bFeMv0UnxclNOg5huamlcMz4qADFSpFAMK0/UtXuLW929xfPXl36bwhXmu37HCn3/3b7uiJKqZdlBZhqQlEnpqAnw+f8X2cLVkvxQ6UT2x1QjEx1m/P7Uw6nDaLbMtSRX3wf6A3WUPARA55ghQrCIFVQWClyBONwtDYO94x7tTFpIlr9FFVS6ugG9P522+GEhVqQeAT37rXkx/I008c+J3SBOi8+z7kidfa+naHBapvQeSpqRanN0cPypRCmTMkim0LKh7rz606TpkQuxqsT8xo+Y0L3pZb9Ko+oJe3yFD2vGb1VcWzbfVaOfIEwOaLmaWr0ElVkadpehECp1A5AugTCBPEZ+2T5/pzGQKE1enkT715SL7Wt/fS+iTyVPlrOSPDMj4FmKzpeTVtsqZXiQWsiAPojOqmH+MojuWpTwFFRS/t9x7eM1e1H/9/T3vz+jym9bkKVKLSCKwUeaKTRmdvllP3onvQUQ4ELG19j8kaVvcG9B+zgJkB3Bd3AnQJQ27+GJGnH7zrnYWtT97qZMRrDvJV+gNrYQKRp2U0ShGfApQGSxg0HWKlWZXz+mAzLECHgmK2XQhNWdNCgc1f0KPDNE5P7R+PPVlaAEjXlpt/rJe9u9JgLSnBSpEnMOTbNxJDR4qFMrkXE50qhtToTJrPkzmfx7PxeEacmgMTWV72Xae6PmwbhX8SfkrB6gT5gUgVHH7D6nTqbW8ZE68Reeqb75PIU80fZWb2EAZ6U7EiMkVl52UtmBkrTZzXKwj06tj+gBl2kCcUFPfYFmGlV/WFNMaKan27+60H/rQUolidXnnH24eKbn37XI6dpQpU5LkQWDnyZAtjMjwX+1o++NDQ32ltzd37X/6LY42khYIN2dFZjMvhmrLRhxf8eu0+kugj1iRclksB33kjs9YGm16HJIgT5GdEgLA+Icu0MGF1svS37OiV75PI07S3pM5ncY/LCFN8rnMH82nWnthJFHJXkV8D27Hs2rXLryx+856b/fYsECqmCa9y8FYnM2/fssP32Oi5FQ1YnYKi66lvQVGslhlvpcgTw/VYgdAFWUNm+EJedZXbetIWv60JW2/xLdMxYjZt4YCV2ybDcJ0O3DvvPLdzbc1v3MxWOrWFwabXSeimxnxLo8pASE659RdcGd0QJS98mejMGemJz3u3TXUvSPg6xem47pl+Enkq/NpVHNF6XEaYICpmvuYev7MUShVikC+WLWbUcbaD37E1zHyusEZZHM6Y8ONeYgGZbIkClCzrPNHDK6VoC5TRtijfeuGooycX/ApQMHu3ef+nIs7jweqESd0UVc96d21r0zx5Voo8MTmFb35GYOutay/e6b9lrDZra2ueRM1INn6MFYvJKdMmpgw23Rd+53f83qgsZOnJzTiHlbg6cOThofP1SDfUWSnWdAqdMdMp8fmWHd7SnWd9yrU6WR4Fh/7qrGNTeYs8NYV0XA69OTNJQ5QgUhAafJxi8lJAgcXZFr7GmjRterARurwzM/FQfCUD1if8Cs4443WLm/tLlr2M6AmrkSmXW3Z4RYnCnBUuefCvJxVdz3p3szBqy/OVIk//9mJpWHG0xvKU3jmALU/oLN1zzz2TnaVppCklAR0t9kVlDzryW6WlTjwh2bvNd7LwiyyiG1LwFPoJIfKdObOEm05Kn9e3O3RPOky1OlkePdJPIk/pN6SJ3/TsICaYxrHkxCHyKfBTheNnVV9D1mbNqEkTKIjenEN5DNFBnBi+WzQwHNbm2WfBapSlqNa3+9lz06xPs9KXmVa8KNZKPxuBlSJPs6tbOAZ+jWaV4sxMWzbinWe43vtOvue9fghvVWbFBauTWZfXtxe2TBduhFHEmVYnI0Aj94J4cgu6KpA8i5d1Hs3g64N+Enkq+wYuGh9/IwgIlqc86w09MltUMy/OonJYerY8iK1gabJkv20mjKWb80zPdB7FGRfHR00P7Xtv/9WZzo1xuiavM61OpmxGinKag+jU9D3q3TXZZouUJfKUjx5E57bbPuOH9Bh6O+uss5KWo8Fm8nd+Vv5J6eH+wRE3eOEbcx1ucGSGNIs9nhgGG1mmq/Z9Cp0xI2mmi/LOe7clJrcUsjpZXj3RTyJPi7375VNDjLD4FLHeYKGqmzzZzD9m1hlRSp9x6lx0TZfySOWmYMYavkOM3UMy2hYgdxNTeU2x2HmK9amQouuRb0Hb2jdLHpGnLFQm7zHclrYa0aHCIo0/JMN87EJQNGCNYuHdTCfvwaZjk3r35Vc798WXzHd8+dXDPIoKVCLehNUp0g2QqsrCYNMPw031dbKy7ZyyPk2QPIuXd+6BfhJ5quwNLZjRtJluBbOoJVq8REGaPDFtuSUBYoLFydYlYRo/ZKNNwZO7rOG6WNGMeoBskZAOmb5OcVque9K7S2PT1t8iT/O3DGSK4TysUvg0MbwHnp4UzcgWokV8JqBkLXsyeHaPc3+7NnlApr6w5v75rvHhCdYXJuO++Gz5fd9miO0f5xKSEn6RRcoxS73vcNLpLHiwthwyYnXyE1YKprP80c2rvOedyFORt68PcaZtxcCQXV0z/0piO0FMWmZ9CuRuFnmCAI32lIqHMYPVqUh6zbwr+fbUF13kaXFsIT84lmOBAs94aQIsTPxOW624j1/VKS89xb1h6xv9WnJBEixPRp4gRdEBadq9dc1PYGESC8ef/PZ/8GQqjgfxqoM85VqdrJNUoe8TOokNgOc5sOxDnuZJC/ESeQpvY/MXmHnpjfRh5dfm0R2VyOw/hubM4gRZin9zf8pq596f4Nj93ryNmbz08cI3ClU9EJN43H7G1NpCGVcUKThVFiE+piRv2ZFwfJ/q62Rp7DyyPrEkgsJyERB5qgH/yEoPaWJoDysTs+4gTCy6a8N1+/fv98+wXjH0ZyGLPG3et+Zu37nml1ZgeYX4eOc71hzPA4GqgTwV0hMVW58MD52rQ0CWp+qw7GZOKCh8q2yNKZzHcSLHJyu2RuVu0Lnh3P1nTJrFzVQe+xpkmMS9Sf1rP18IuwmrU0QisqbWFsq0wkg4gLPQXWJdJ5Mx7xwNv2F1CkOSefHT93vgW1BhE9WWlchTbdD6jLEwQZAY3mNRTixFWJsgURYYwqMd/vDqD9qtXMvT/b+35iBKj9763e6bN6+5t55+sidRW151kr8XD+FVbXmaaXWyb3xkfQqV0UWrEBB5alVzLEkYW/MJ36Z4eA5ixSJ2ECvWn8pabZjZKBAkyJKZxe36iy/xignlxIGpPPTqLA5nHDpnBKxOuU7Y69unLuw2I+vKHmOmxk/AxvyLnknD1F6mEpdNT3x8C9h8WGF5CIg8NYs928Kw5El6XSmWQWCUwob3vOXJ9FL6POrYoZPQT5AxrFB/c/1/GOq0UWevavKU6+tkpMnONc28a7alVrc0kafVbdtiNYMQsegllqW8Rets8c6sDTqzyNNI6WAap4doZnFM6gnFNIpXhDzlWp1M0Szb92mw6QkQcs5zYLXimCctQ30iYSiUbQAAIABJREFUT8Ve97piiTzVhWyJfAeb3jJlPkz4QLEC+r3/38gJPE2evjDszEGesEThHoLlyccfOZRX7fNUaso/uq1C36cSSCpqAQREngqAtNJR2MeqyErmLFXA8F7kh+BxySJPX3yJ29y35ve+QiHRo+MMieI6QaAKWJ6Cr9M0X6IW+T6Vfl9iTOPr0hkpwbIQEHlaFvLJcpl8gdP5ZZe9zw/hoW/otGH1DkNxRqL+dkiacBS3Tt5P/2JkHR/F88sdRMVQBmtN2cFwIRaw9KrnyMGuCmwpY/t5/uRnfnlomcZvE31W5Pjkuc1sGhzVselLOn8MZ3apEyjy1PRb0rbyyvyzTsf1vzcmh+3o0e1b87NX6MWhuOjZZSqoAuTJW52YJmtWprxzzrYCbYNc8qweAiJP7WtT/KQOrn9oaEkywhSf/3bs6wTJwgcqJllYpCBWH7jyykTlGBrEcT0+8MNiKDEOLJ9gVjA7kwa/Robaix7Ez1rSJC6r69fsFoG/aJt3jUhjLPKURkS/yyGQZXkaKSjv34QVitkrX3yJnxqM9SnRu5tBnqb6OqVJVEt8n8oBqNirgIDIUztbMfg8oWdi4sR1RJ4gSaangv/mF1/iCRXECsJkASsTli07IFdYltIrn5tFivh2MEMQyxUWljLHtK2cTK6unsHjJw78jvf3PP3u3+7M8gYiT11949og9xTLU1BURp4iRVWGPHmr07ThugwC1YaZd21oHsnQHAIiT81hXaakrKUKYt3EWk/mi+nJU0ywRhNezn7da72VCTKkUD0CWJv8DGWGMju0dp3IU/XvQr9ynGJ5wtrELBZ6dfFU4KI+T8G5kiG7Ir4BxNm7zc/Kw2KlMIkAPVgc01d58brJWtd/R+SpfoznKWEWecKdAP2UcBI3AoW16osvcU8/8Al35+fvXHhPznnkX/U0WN+wOnn9Tkc4Wrql7XUXeWp7C7VZvlmWpy++xPs6MVSHw7j18BKOm1OG7Rjn/8G73ul9AzgXPfAlgHgpTCJga1HJOjeJzSJ3RJ4WQa+mtFNWGPfWp8gaPrE4ZkSg0g7jNUnby2wTVicbReiI9UnkqZevbIWVnmJ5wgxOz86Tp1edlFznKVJO05YqwFIyz1FhDVcmK3p5bLPA2lA4oco6V13TijxVh2WVOeVanqIZweinaeQpvc4Tw3esMZX2capS7j7kNWF1MvLUEeuTyFMf3tK66jjL8vSF4eJzW0/aknQSN+LEeYrlqS6x+5ovVic/Y3E0TVrWp+reBJGn6rCsLKfY8oSeSR9fGC9V4IftTB+l4qXJE7PqmD3HdjF+i5jKBG4+I3Y1WNZMvkyrU0SgWDi4zUHkqc2t0wXZplieGJ5jyQIWy8TPyU8DjomTKasCK4x3AYo2y4j1DqtT8C24ZYe3PqE8FRZHQORpcQzryMETH7aPyjnwd+LIe879rGE7torBDYEjvURBHfWoK08m5LBEAB2rJkOu1SkiT22feSfy1OQbs2plzbA82bBdYuVekaelvAUJq1OkoGR9qqY5RJ6qwbHpXNhk+KyzzvKuAWXLfuihh3xarFCQqa4FFqX0e3Hu3eY7VhCapsJUqxP6qQMz70SemnpbVrWcKZYnyJPtXg6Byp3RIstTrW/HhNXJyNPI+iTfp8XhF3laHMNl5MBGwwy/HT16dK7i8Xsijy6Sp7DHHkTlk+c2Nnw30+pk+mnk+/StF+Zrm7katEQikacSYClqBgIxeUr5CsRLFWAa98N26Tj87gF5ope3rCEym2Hne3OmmOysVdkzXuryt0SeymPWhhQ4frM6uG0k3AaZmpABnXDyp948tPCgC9a3+yUDmrA+zbQ6mW4aydVW3yeRpybe1JUuY8O5r/38kABBguY5SL/CAdLE7DZ8jppQTjGUuVYnU1DyfYrhmvta5Glu6Jaa8I+vucY7fx86dKgSOdgShrzmtWRVIsSMTNBBCf9HdMFomKxu53HWl0us62R6KO/c4pl3Ik8zXjQ9LogA/k/zHgWL6Gq0sDffLTsaM42DFcQp09cprajWtztkVJgfAZGn+bFbZkoWv8TvqarVwyFNWLJ4H9q6lAEEychSYr/QkfWpzgV0vdWJxYxHZK3QeX27u+bR9WW+JpllizxlwqKbQqAaBBJ78zVoGkf6mVYnI1HyfVq4sUWeFoZwORn4SS8VFj3YdPv27QtLGeBU3qaATphq+Vnf7uocJrPZfQwZnnrbWwodOLXjn9W2IPLUthaRPCuFgLc62d58o94Wva8mAj1MP5tm5BCa6GUacbLz3m1OM+/mbxWRp/mxW8WULF/AMgavOu20VjmTz/Q3qnmYjE2AcQAve9RpDZv3/RN5mhc5pRMCMxDASTzhlAlRacA0jliZfg1GlLLOsj7NaM3pj0WepuPTx6csoMkyCBe/+12tqH5hf6OarU+tAKMCIUSeKgBRWQiBNAKYx8NU4DRZaUA55fo1pGWJf498n5BdoRwCIk/l8GpLbN51htbq8k8i37Y4jwd/o/ibz7pe3+73EV3W7OC2vBuz5BB5moWQnleCAFaYPq0nNGt5ADY5rnP9kthJvZBTJkN7e7f5TZibnhFYyQu25ExEnpbcAHMWD7FhaO0DV145Zw4lk1XtY1WweKxOrNgddhjIIk3xvfXt7vce3lMw935GE3nqZ7s3Wmt6MK+84+3DdUReON5o2csorNCQWc0zSMD83n9+pPTRJ4Jb5bsh8lQlms3l9fzzz/vZcU0NrV122fv8oposadBkYLaaJ05F/B8hUbfs8Dpb1qf8VhJ5ysdGTypCAEdkrBp8vE05S1ck+lzZFBoyG5nG67Q+zSW8Es2FgMjTXLAtPREOzG/Y+kb3Gxe8rRFZrrvuOsduC7wvdQ0VpitinVfTwZ5EMYll1rF3m5YwSYMZ/RZ5isDQZbUI4E+Qnqrf9s0eF0WAOk+dCpwyjWuG26KItyO9yFM72qGsFFiAzjnnXH/4derKZjBHfJYyOOWlp3hncr+UQc1DeVigcRPA+l/mYGHfNi4RMAfktSQReaoFVmVqCEw4Tdc8XGXlLus8cypwTJ60uveymqnyckWeKoe0sQxZJJP97ZocSrvnnnv8UgbMxmPosM5Ahw5XgnmPOmXrct4iT11uvZbLnrm69fr2lR1LL+2UCZHS3nItf4uLiSfyVAyn1sUabDqIDCuNN2V5MgzYxuWmm25qlLRZ2TovjoDI0+IYKocMBOjl5A5freh2IKzM6/0IYuvSrOtbdvhVdjGtK3QXAZGn7radJBcC8yAg8jQPakozE4Gpw1crShj8Zps4xo9WEi90xmlz7zZNC575RrU7gshTu9unC9Lh/yRLVBdaaiijyFN32qozkhYavlrfvnLOiPMuD4DVSbPuOvN6Zwoq8pQJi26WQODmPTf7mXjM/GMWYJsD+orRhT4Hkac+t34Ndcc5MawpMm3I6pYdft81pvWvTKh51szK4LSCFRF56m6jYvFhnafHH398uZUYbDqWMlhbW2t0KYOylYY44ZLR90U0RZ7KvjmKPxWBsKaIbYY7jUA1tM/bVIH1UAhUgIDIUwUgLimLS768y2151Um+07ckERLFxksZPPXkU4lnbfjhO8d7tzmWMujzoroiT214G1dIhrAtyDTSFD/rycKZK9TEqkoGAiJPGaB04FZYh27UkWvLcBkECkLXNusOVifWjPL+nD2fKSzy1IEPvCsisn/dqbe9ZfhhxQRp2vX6dr/nkrYB6EorS84sBESeslBp/z3f2TMr+S07HDNm2xBsV4a698AsW9eES0bP16kTeSr79ih+LgIsiLnl5h8bbsXCrLOCB2n4KBWSCEAoUe59No0nEWnvL5Gn9rZNpmSDTf9dMfQUlhcZdeSY8LLMwASS0AltkXUnWJ2MbNIpbpF8TbeZyFPTiK9weTh/Y2ae58BqpZBEgN4nxBJSiiO+QnsREHlqb9tkScb3NLH7wYgMLNP6FOSi4zmSpy2+RQmrk40mrG/vre+TyFPWl6V7nUWAXiPkrevWmtjx/uRPvdmJXLb7lRR5anf7pKXDusN35X13jAiMyMoyh8oyd2VowQa9mVYnw62n1ieRp/RXpd+dRgDixHAhvcouB18PM4+v4JpYXW6bLNlFnrJQae+9TKtTRAb4/poOubsy3LLDE71ldqAyrU6GV099n0Semv5CVF5tCMTWmlNu/QVHL66LIdSDlcpRUC1Qnl3EsUmZRZ6aRHuxstAL6IcJq1NEBl55x9sd32GTYequDOvbHTsYLGNhyqlWJ8Osh9Ynkacmvw6VVSsCiWUSlqhsFq2kn2ljVqdIOcn3aVFk60sv8lQftlXmDPkI2yjZt5V1Xt/e6DIBM3dlGG35tIxFhadanQy7HlqfRJ6q/DKV19IQSMxQ4YMeKRt6c10KweqUJk+yPrW6GUWeWt08Xjicsb1Pke09af/4s84jMtCU72QhgrKERYULWZ0Mv55Zn0Se2v/NS8IZCIQZKmnC0ZKpxzPETzxO+DqZUrKzfJ8SWLXph8hTm1ojW5ZcnyL7vtLnhhy1cztMaXn4vb690bWoCpE6k7Nhwpndys3dFXlqDmuVVBMCmLLNN8if7WMeKRsUQBcCStSvO2O+TnE9uJb1qbXNKPLU2qYJgk31KUp/a6PvjfWW6rY+JdwNsuSI792yw6/wjUWo7lCK1JmM69v92nR0aFc9iDyteguveP3wFWCTyrDQnX3Edl7f7pbh/DkP7Jm+TlYPO8v6NA+0tacReaod4oUKCD5FrJ+EhbroMZq5WxcZmHA3sO982rmh4TFPNsGpDGZ7t3l9uwzH9oVekDkSizzNAZqStAeB8IFPUzZ7tzmISZtD4V7eyPrU1ZmEbW6DRWQTeVoEvfrTYj06/e7f9pZdOlNFDyzBdM7qIE/mblB2VwYf/5Pn1m4Rw7qFnil7QAjrwKv+t6RcCSJP5fBS7BYhQG/Sb1KZ9nVKE6lbdvjtDuo2vy8CTSGrk9VrZH3qg4JaBNMm04o8NYn2fGVhDZn3mK/E2alwKWAWbdmDoT46XArLQ0DkaXnYq+QFEZjqXG1Ew8423DXYXLDUipMPNr0SpCecO/RodbDzLTv8OjXLXDSvYhQ6n53IU+ebUBUQAqUQEHkqBZcitwWBwsNcKcLRxuEub3Uq41cw8kNgvRqFdiAg8tSOdpAUQqApBESemkJa5VSGAKb3MEMlb2aakab4vIR1UopUGvKEX0WZA/8NMFBoBwIiT+1oB0khBJpCQOSpKaRVTmUI4Mjoh7mw1tiCd0XOI98oHBoVhECVCIg8VYmm8hIC7UdA5Kn9bSQJUwhgecL5GxI0z3H8heOpHPVTCCyGgMjTYvgptRDoGgIiT11rMckrBIRA6xAQeWpdk0ggIVArAiJPtcKrzIWAEOgDAiJPfWhl1VEIjBEQeRpjoSshIASEwFwIiDzNBZsSCYHOIiDy1Nmmk+BCQAi0BQGRp7a0hOQQAs0gIPLUDM4qRQgIgRVGQORphRtXVRMCGQiIPGWAoltCQAgIgTIIiDyVQUtxhUD3ERB56n4bqgZCQAgsGQGRpyU3gIoXAg0jIPLUMOAqTggIgdVDQORp9dpUNRIC0xAQeZqGjp4JASEgBAogIPJUACRFEQIrhIDI0wo1pqoiBITAchAQeVoO7ipVCCwLAZGnZSGvcoWAEFgZBESeVqYpVREhUAgBkadCMCmSEBACQiAfAZGnfGz0RAisIgIiT6vYqqqTEBACjSIg8tQo3CpMCCwdAZGnpTeBBBACQqDrCIg8db0FJb8QKIeAyFM5vBRbCAgBITCBgMjTBCS6IQRWGgGRp5VuXlVOCAiBJhAQeWoCZZUhBNqDgMhTe9pCkggBIdBRBESeOtpwElsIzImAyNOcwCmZEBACQsAQEHkyJHQWAv1AQOSpH+2sWgoBIVAjAiJPNYKrrIVACxEQeWpho0gkISAEuoWAyFO32kvSCoFFERB5WhRBpRcCQqD3CIg89f4VEAA9Q0DkqWcNruoKASFQPQIiT9VjqhyFQJsREHlqc+tINiEgBDqBgMhTJ5pJQgqByhAQeaoMSmUkBIRAXxEQeepry6vefUVA5KmvLa96CwEhUBkCIk+VQamMhEAnEBB56kQzSUghIATajIDIU5tbR7IJgeoREHmqHlPlKASEQM8QEHnqWYOrur1HQOSp96+AABACQmBRBESeFkVQ6YVAtxAQeepWe0laISAEWoiAyFMLG0UiCYEaERB5qhFcZS0EhEA/EBB56kc7q5ZCwBAQeTIkdBYCQkAIzImAyNOcwCmZEOgoAiJPHW04iS0EhEB7EBB5ak9bSBIh0AQCIk9NoKwyhIAQWGkERJ5WunlVOSEwgYDI0wQkuiEEhIAQKIeAyFM5vBRbCHQdAZGnrreg5BcCQmDpCIg8Lb0JJIAQaBQBkadG4VZhQkAIrCICIk+r2KqqkxDIR0DkKR8bPRECQkAIFEJA5KkQTIokBFYGAZGnlWlKVUQICIFlISDytCzkVa4QWA4CIk/LwV2lCgEhsEIIiDytUGOqKrUi8Pzzz9eaf1OZizw1hbTKEQJCYGUREHla2aZVxSpE4OjRo+788853v3HB29xTTz5VYc7NZyXy1DzmKlEICIEVQ+Ccc851Z5111orVStURAtUjcNNNN7lXnXaa++FXv8Zdd911rquWKJGn6t8N5SgEhMAKIXDixAn3x9dc43bt2pV78M/g+17x8tzn09LqWT6uwmb1sPnDqz/orU9ra2uOA6vtvn37HN9Zl4LIU5daS7IKASHQOAL0jCFHp7z0lNxjy5YtjmNaHD3Lx0/Y9Aebl33XqeF7MgL1hq1vdI8//njj3/YiBYo8LYKe0goBIdALBOgVTzvM52laHD2bjqHw6Qc++D0xXIellgNL1DNPPy3LU9WalF4fPTrM5gpCQAgUQ4Dv5rLL3ueV1PEXjhdLpFhzI2Dkae4MlFAI9AABdBEO4/xPx2n8oYce6mytW295AlmAhqkqCAEhUByBi9/9Lv/t8I99//79xRMqZmkERJ5KQ6YEPUSATt0HrrzS+zh1vfpLJ0+Y6w4ePJh73Pn5O/0/gHdeeGFunGnp9SwfW2Gz2tjcc8897uL3vNc7ZeJTwjfke3qDza7rrdbJL/LUuiaRQEKgVgSWTp4YjjOnMZ2Hsw+Eg3Co6h3Aasth+eH4fOjQoVqVSh8zF3nqY6t3u86DF77h7rvv793T6kvN1ZBLJ0+yPK229UPWreW1L4qRNVVYTwXyxIyW2277jMNhU6FaBESeqsWz97kNNt3B9Q+5K/7iTveiGwzhGBxxH7/2MrfvwX/JhQdCdO3FO927Pjq7g/Tvj33anXHG69wN9z6Xm58e5COwdPKUL9r4iXyexljoSggURQDixGwWFCQ+g3IcL4pc+XgQU3BWEAKVIDDYdE9+7ko/pd/Izdc/don7/lf/VC55gmQdOXi923rSFvfKHz3PPTbiXLnyHD/uO1LHN7u1vlJufRp+0HrypNl2Db8RKm4lEMC6xKrX+Dl1bf2ULjYAzvnMHlIQAtUhsOH2XPomd8abrvDf8AU/feZ0i9LgiLc6XfKBv3Tv/5Ufd5d/9gkvyuDY/b7zdM9TG/730w98wlu0GPXZu3eve+S54WzcB++6yc/QJb3dq64uq5eTyNPqtalqJAQ8ArI0Nfci0MnjUBAClSEw2HQvPnu3O/t1r/Vb/2x9y9VT/ZMYhmP4+DNHT7g7rjrbEf9fnXMM5UGm+H30xL/667d9+IAjPkP61x523mK14/yL/bA+Q4NFhv0qq2dHMxJ56mjDSewOIYASNL+FDoktUYWAEFg+AhAhfBZt+C5Poi//+UXeSgVh2vzibj/EZ9YmSBiWK9ZYMhIGeWK4ec8zG86GBP/u2KyxvrzS+3df5Kl/ba4aRwg890/3uoMPRrt7Dzbdd579ur83jfCQjllrKKqpYbDpbr3q10IvcGpcPRQCQkAIGAKDTceQG6SHTaeN9Di34R3HGSbm2HPgYcc9sy6xHAlDcPg+xRYkI2E2nAd5Il9IGdapGy54vSdTWKCMdJkoOk8i0AnyBOtmCXcFIVA1AjhlYrq2GSwoK8zkmLVzydPgiNu9dc2tbdk6szeIvCiyj9x6/2yiVXXllJ8QEAIdRmDDExpIEx069JKRIXwan3ryKX8wXGzDexAfCBW+jsT/7xfe6PUYeg1yhaXJSFhMngwkyoFEnbntN2c7nFuinp47QZ5Y4E/bs/T0Da272oMjQUFBluidzVIcm1/d452xccje+Uf7goQontjRMvw+fjwx081buw4eTMQNmehCCAgBITCabRfPrjtw7QV+Ft2EVWiw6fUWjuXxmk3MvKNjiGUKQgSRMhJmPk/MEOX5wX0f82ecyM1SHuelBplEoPXkic0iWZtGM4YmG093qkGAHhi9NPaCMzN2bs6DTT8DZvvlt/qpxBCtQxvDVeZMufHb/AkwiZvzJlOCWbsFvwN6hue/+8Myj+cCrQdCoM8IbHgSQ+fMLOAMrf3+298cZtEFdEaz7LBuJ8PhMPuOdGZdx9qO7nnsgQOOWaKQMTp0xMFqJb2URDHvV+vJU57gui8EKkNgsOkgPgwPQ4pMWWXlbz4I3k9gNMRnPgQot0t+5oe8NYqF6iwvphtjKneDI/65md6DZSqrIN0TAkJACMQIlNxWaZoei7NNXFNGyXIS6Xv0Q+SpR42tquYjgHWIxVgxbZsTOL0xFprkwLSNMqLXFlubzBxuaeJF6mzmipEnLE+YxDGls5ZKwlE9XzQ9EQJCQAgIgZYhIPLUsgaROM0jAOHBkfLmPTf74TuzJLGYHBMVODCJQ54gWad892v8sJs5ZbKarxEl0tgKv+abYOTJCBZDd5jI8WeYNLU3X3+VKASEgBAQAuUQEHkqh5dirxgCNtTGEBsBcgQZMj+muLo2ZIcfAvvGsW8fM+nwl4JwkRfTinnOzBab6WLk6VsvHE1Ym4hjQ3txOboWAkJACAiBdiMg8tTu9pF0NSNgTt5mObKlCiA1ZinyIgw2HYvQZRErhu6Y6QJJshkvzMhjeA5SZQ7j+DjhC3Xxe97rHTWZVmxOnDVXU9kLASEgBIRAhQiIPFUIprLqHgJ+2YB4kUzn/MwT/JHSDpfEZdZn+j6kiAUzmb0SL1Xw6KOPeEsTz222KNfMHuWI43YPOUksBISAEOgvAiJP/W171bxCBCBUnlTZTBU7V1iGshICQkAICIF2ICDy1I52kBRCQAgIASEgBIRARxAQeepIQ0lMISAEhIAQEAJCoB0IiDy1ox0khRAQAkJACAgBIdARBESeOtJQElMICAEhIASEgBBoBwIiT+1oB0khBISAEBACQkAIdAQBkaeONJTEFAJCQAgIASEgBNqBgMhTO9pBUggBISAEhIAQEAIdQUDkqSMNJTGFgBAQAkJACAiBdiAg8tSOdpAUQkAICAEhIASEQEcQEHnqSENJTCEgBISAEBACQqAdCIg8taMdJIUQEAJCQAgIASHQEQREnjrSUBJTCAgBISAEhIAQaAcCIk/taAdJIQSEgBAQAkJACHQEAZGnjjSUxBQCQkAICAEhIATagYDIUzvaQVIIASEgBISAEBACHUFA5KkjDSUxhYAQEAJCQAgIgXYgIPLUjnaQFEJACAgBISAEhEBHEBB56khDSUwhIASEgBAQAkKgHQiIPLWjHSSFEBACQkAICAEh0BEERJ460lASUwgIASEgBISAEGgHAiJP7WgHSSEEhIAQEAJCQAh0BAGRp440lMQUAkJACAgBISAE2oGAyFM72kFSCAEhIASEgBAQAh1BQOSpIw0lMYWAEBACQkAICIF2ICDy1I52kBRCQAgIASEgBIRARxAQeepIQ0lMISAEhIAQEAJCoB0IiDy1ox0khRAQAkJACAgBIdARBESeOtJQElMICAEhIASEgBBoBwIiT+1oB0khBISAEBACQkAIdAQBkaeONJTEXByBw7u3urW1Nbe2dbd7bLB4fquTw2G3e+uax2br7sNTqlU03pQsan50+85hPXw709Zra27n7TUX2rXsb985/A48Pjtde+Gp/n0L74deiq69ta2TV+SpdU3SD4ECkRn9gwv/7LZsddeO/n8HRVcR2QllRvlVXUaR1gty5BC58HwOBT9ffYr+kyoarwgK1ccJdU+/UwUJVEgfvR+xlKFdcp7HcYtczyqvSB6l4xze7baetGVMnqLvrXReMxKE+s3xHg+zrv59W1ymGZXW494gIPLUm6ZuV0WDEkv/owvKfKw4q7IUTf7zq76MIiin657+3xLkTD+Ymfm89Rmn66zlKSIF4zrc7naO3q/xvXwQA+7hHYzjFsUoTuOcC1aetIVnnF9V73eq5OyfufJkR1/kbnjPS7/HVuoYoyLtZ6mmnReXaVruetYnBESe+tTaLaprUGIV9eKLVC38c2ywzCy5rO5nnXXW0AKQkifIOfc/naxSp90r+k+qaLxpZdX0LCJPY9jKkScX5THxz9qeZRKrKXVqkKxMkWL8qEF57D1fGzfIWI5CV9W/b4vLVEhwReoBAiJPPWjkNlYxKLEUcYhlDXGC8h0p0y1b3R888Wjw08nzYwrpR8Njd1x19gRZCXHmKmOs3MOwo1nSQn5xjYbXVub2y28NdYij55In+wduZaytufQ/ecs7+Q9rlpzj5+QX8hjhNvYPG8eLZc/DPyYjhk+evJd/9omAxTjOmPz49FOJy1g2LDnf+PZtweq0tpa2+ky2yfBOMo9xvZ0LbRK/rzPaI4GjtVlUh/A8NP6o/ELvdySr5W3nkF+ynqE8i8e5RH3IzfLIbq+c8nLkGVvlIj+1WB43rmPV71vy+yjzniXrqF/9RUDkqb9tv9SamxJOKO+URCFOUL5jZWr/jBPnEG+s5BPP7Z9GpKDnL6O4LKlqhX9AXoGbJSCSKfyjjuqT+Y9mVJ8x2YjqHdIWkbNIHGrOLwkDAAAgAElEQVQxjrdlS+Q3Y7iGMiOyYc/icxQv4D/xPPUPzZ5HOKVxjclakG9a/IkMomG2iOQQzeQ0rEMbmVzxeVQ/S5N4B6N8w/OAxxjfRBrLu3S8ZAVDeZYf5xE+ReoT45CQL8iVU17m85z2RaYQf4xHaM9Y9hAvarf4+eja2iwhf0ibI0fZ9yZZdf3qAQIiTz1o5DZWMVORo+wipRXiBEU3VqZrWf+EQtpIIVra2EoQ4o3/KWYp7KllhPzGVo3wD8jKzAE+Wa9xnSzZZD6TcXzWGTIk84bvmIPwNDnH+U+tc0SeMuOFNsnA34symu0Y4kX4p526M+SmLme86YrcmZKh7vYP1ACNy47aPrt5xrKP/+mO7gW5x3HG701EGEO8+J/6GH8rN8gb5CzYDhnYTL4zVkrqbGQ9YY0rXp8gc7q9UsXwM8QN9YsjHXbXXfQnybackG0GHgHncbxEURk4TciUEWfWexbXQtf9RUDkqb9tv9SaByVm/+jsHP1zC3GCRhwryfE/tox/UKaEg3IdVjX8g6mijAylG/IP8mZDPFEvy2sk10Q+9twwSp+jeubmHf2znMg/IkVTcc2LF8nnq56Dv3Pjf9IG0YS8BlmUJ1YOi2+P0+eQz9qaC75k4DRKOFnndA7j3yEve0+sPunfEe7D1JP1G1sMy5Gnqe0QsBnnWbh+VpfofQgyFqhPwGZWg8wkTyA2xithyQqy5Xzvof6j9yL6ncxnNBwY1WtC/lTaAtUavyi66jUCIk+9bv7lVT4oMfuHlCFKiBM0Wo4yTf9DSP8e5R3+wURlzl1GRCTSCjuIm1Enbk2WOb5H2iCnZZRS8OnyMq1AlraQnAVxjfJK/HOP5PPF5uAf/7M08bKwCLCFfMY+MYlyLWK6/AhjP9yzdXeGP5UlzjiHcofkZELG1PNxDmMyYPULxCQQgii2rUkVIpdvh/S7ELIaF5O8ypI9655PNVmfCSySuSd+TY87zjtdh7GPWg4e6faOfk/mteamfx/+ZRkv3TDqmGS+Z4na6UffERB56vsbsKT6B8UaEZm0KCFO+I+Qo0zTyt9+Rz1O8g6kJCpz7jJyes1B1HRlot+TZUbDa1t3u+DYbpnZP4dUfaIsw+Vk3tn/pCzrYcKCuJYlT2l5rR6RJWlS3lCV6GIsX/yPMETIaW/LGwLlSVRanpBB+mKMWewYHTDLKW88RBpZyixupeRpLF9MFoJ86erEv7PksXtpfOZur2GBhr9Z/2IxMkmlyRGwGrd7gsyk5bLfafkTBRaQKXq/M9+zjPx0q78IiDz1t+2XWvOgWCMikxYoxAn/FXKUaVrpmjKNZ6NF94r6VSUUdroM+x1kS0uf/3uyXsO4dj8MO4W8o3+W4d4wjSeEEYaWR/iHVUjOgrjm/HMJZdo/vRjrSN6JeJGFKMhrsCF3VK8sq5VFjUlLOp9xmUkLREibc2Hpvv/VPzVaVHI8RJZXnqUZW04iq0bGP/YQP2BUsB0KtWluxUZWlvnqMylzTjnT2pYkVgd7Z+L44d4Yj5jMBBlCvAW/j6LvWX5V9aSHCIg89bDR21DloAATiispWYhT9p9LQhGPh3xCLz0qc/4yIoWd8kFKkK5klfyvyTItUirPUO/IapYqy9dpan1SeUbpx3KO/0mN72X9gxvHC1hG+cXEJdQxfj66jssI8aK6jkCaGEoZlhn90zfYZrV3WoZ0WVE+4TL8cx+9P6k0Qe503jFhH1YkWjIhSeBCHiHvMb4xRpNEo0ibhpokL0K9kjgGWWbUJ8QLMiezj3+FuOk8t+52Dz9xfXKl80Qck22Mx6z3LViVE/mM2m7a9xHwSOsJkyGuka6FwBgBkacxFrpqEIGgWCPFli4+xAmKeqxMp/9zIadxXCMYQWFHZc5dRq7SHSrhIHK6UvE/+oxI8T+BRB3JJ6vMVB4T9clKE/2DGSYfY5UoM6S1fySjeFnrEKXk8C1gewlOlDcGZULe8aPxMGtIb3JEkeLLIG/0j3BqW8eJ09dJgpJRvQz5ouG6OLtYrsgCNVn3gu0Q5xewGdc5S9YgTkg7iWX87hlZSec1KXPIeeIixE3LaG0SZBnKvnX37hHRNNnKvW9zfR/xcH6Q08qfqJJuCIGAgMhTgEIXK4/AYLOyKto/hgTZiAhb8n5lxZbOqCtylq5YjxOoTXvc+Kp6axAQeWpNU0iQLiFg/8Csh544R9aFZdepK3IuG6cula827VJrSdZVRUDkaVVbVvWqHYHsf2LtM/l3Rc7aG2yFClCbrlBjqiqdREDkqZPNJqGFgBAQAkJACAiBZSEg8rQs5FWuEBACQkAICAEh0EkERJ462WwSWggIASEgBISAEFgWAiJPy0Je5QoBISAEhIAQEAKdREDkqZPNJqGbRuDEiRPu8ccfd5wVhIAQEAJCoN8IiDz1u/1V+4II7N+/371h6xs9gSqYRNGEgBAQAkJgRREQeVrRhlW1qkMAa9M555zrtwu5+N3vqi5j5SQEhIAQEAKdREDkqZPNJqGbRGDfvn1hn7VTXnqKO3jwYJPFqywhUDMCG8799aXOnXeec9cfqLksZS8EVgMBkafVaEfVoiYEnn/+eXfWWWd58rRlyxYHecIKJd+nmgBXtvUgwNZEjz3m3Je+ND6eGQzLGhxx7h1nOre25txv/nk95ZfKdcO5Bx8ay3nsO6VSK7IQaAIBkacmUFYZnUVg165d7mXfdao7/7zzHeTpssve54nUTTfd1Nk6SfB+ITB44RvOXf5+53741CFBgiRx/MgvOffZw865jVaRpxefvTspq6xh/XphO1JbkaeONJTEbB6BZ55+2p1xxuvcOy+80N2852ZPmh599BFvecJ5/PgLx5sXSiUKgaII+I2wD4+JEYTpP/8n517+X4cHv3/x6mFubbI8MYRoBI/z9vc4928vFq214gmBRhAQeWoEZhXSRQQYmrvz83c6hu6MPD315FOOg9l3zv9z6mLNJHMvEOD9/NBbh0TkJScPScg3v+kcw2AckBSsOsTLI0+fv8u52z41PmyoLwaQoUCLw3BbHBgqtGfEmxG8lezs05xD3quuGpO9rx2bkVKPhUCzCIg8NYu3SusoAgzTra2taamCjrZfH8UeHLvfOYgI1huG6GLiA2GyI2PYzg+dXfDrSQsQ+fzE250LRGbkaI41yyxF3/OG8Hzzq3ucO/1Hxs8gRDOG4Hwa4iEvxMvk/92/6WMTqs4tRkDkqcWNI9Hag4DIU3vaQpIUQ8ATESM2U8nHpM/T5hd3D0kPQ3w/8APDw/IaDfX9+2OfHlqGIDuQJOJBorw168iY+Ngz0tswYV4VzFJm8ex3mvzlpdd9IdAQAiJPDQGtYrqNgMhTt9uvj9IHAjTT4jNJnjwxYtgstlbFRObfXnSenEGWsDZ5x3PnBrdfPbo+PHT6puwRcfN5fnw9tykSQ3aj/AJBg8SN7uVmoAdCoEEERJ4aBFtFdRcBkafutl1fJV/E8gRmnsy872znfv7nhodZloIV6PDYugRJSqwTteEcaW04jzwgUQwV5gRP9siHg/jkx9ksXq1YRiFHeN3uHQIiT71rclV4HgREnuZBTWmWiUBiyr8Ng2UKNGl58kSGpQ0gMpAmht6w/kCGAnmCYR1xDt8oI1bEif2acEp//evHJAoClDlzLkW2jHTZGTkif6rMauimEGgQAZGnBsFWUd1FQOSpu23XW8njxS/TpAZQmAWXtc5T3uw7sySNyJMnZ8zGI8RlsbTAt7/tXDxEZ0N+yBEczodJfXKc242skZ51qeywciFQMTEbJ9eVEGgcAZGnxiFXgV1EoDPkacqwSBdxl8wLIGB+STbsBfl447bxgVXHLFKJpQoiSxQWJdLE1iPIE3njVB7nadanX7za+Zl+lEu6OD3Wo9iPalQ97yuFPFnPIWY2687kXQAWJRUCVSAg8lQFispj5RHoBHliOOTGG507rsU7V/6FLFrBwebQiTsmPzYUZtaoDEuT95dKr0hu5GhEcIIzt+XHGWLlLUuRP5Q9J32m5WhjNjmaYbkqCofiCYGqEBB5qgpJ5bPSCHSCPLEuDv8kv/KVlW4LVW4OBLDe/NkNzu2+dnzY7DXIE0N4PIvu+WE5i88QHO8XeXBtfksHvjDOj2eRVclbnyw954zhumFNNoYELy8OBJBhPZ5TRm4+c+CiJEJgTgREnuYETsn6hUAnyBNWJ3r5/JNREAJNIFBmmJi4s+IXidNEvVSGEJiBgMjTDID0WAiAQCfI0zveMSRPTPE2y4CaTwgIASEgBCpHQOSpckiV4Soi0HryxJ5lthUGviUMsSgIASEgBIRALQiIPNUCqzJdNQRaT56YMs7MJ3POjaeJr1pjqD5CQAgIgSUjIPK05AZQ8d1AoBXkibVzcNDlYIf6+LAhOyNPDN3Fz7kmHSQLK1UTAf8VZNbsvybQVhlCQAg0iIDIU4Ngq6juItAK8nTsO86x3xhTzFlDh7MdsdXJCJQ9i+NfdNGQ0NTdFEacWOhQQ4h1o638hYAQaBgBkaeGAVdx3USgFeQJ6LDiMF3bFj40ojTrDLmCeDVpBcLaBXHD4qUgBISAEFghBESeVqgxVZX6EGgNebIqQkyyFj7MIlE4kts2Gpa+iTNLJiAP1icFISAEhMAKISDytEKNqarUh0DryBNVxZ8IX6esITtIC/fxfWrKxymGn6US2JYDOSBvTVq8Yjl0XQiBb71w1P3jsSfd4//v6ULxFUkI9B0Bkae+vwGqfyEEWkme8Ct68KHh0FiWxYmhvWUNmSGXDS1C4pYlR6HW7XukDXf9Vy5xa+vb3Wvvv9296AZ9B0T1FwIzERB5mgmRIgiBFi+Sif9TFnGye/g51RWwJkHgsoIN2Zkc04buZJXKQrDSe4MXvuGueXTdnXffh8Jx8eH97l99KSPytHfb8sjTYNPd+81PB9liOd96+Kvu6ZzXrFKQlJkQKIGAyFMJsBS1vwi01vLEsJwRFM62UKbd+/mfq2/IDGsSw4YczOKz49JLnbNNZE0OfttzO1ta9lXLI2H9feUWr/lg01uRvvHt29xPfuaX3drebW7LzT8WDixN//Mf/9bHWf/q/16u5WlwxFu/YvnsGjn/2703ub87JovY4i+FcqgKAZGnqpBUPiuNQCvJE0sAGEmx2XT4QWH1sSEzzgyh1RFs6QQry4hSmTNEaxk+WXXg0cI8Y+J06m1vcb/1wJ+633t4jz9+6a5fDpamtpAnCN5//Ozvukse/Gsv4yVf3uVesW+bW/vkuQ4LlIIQaAsCIk9taQnJ0WoEWkeesNSwijhEBQKVXlEca45ZoRjaqzNggSo688+IFbIhY9XB/MDqIoxVy1tnfiNrDoQE4vQHTzwa/Jnwa2IoDydx57J8njbcd579uoO8/MSB3wkHeQyH+oaCkwf+UhYHS9ZjwUC04T73xP8Jz7AefeboiewaR7Lid2VhcOx+d+an/4fIkwGic2sQEHlqTVNIkDYj0DryxGw2huwgLV/5SjZ0WKaY8cZR97AYFi+G4/Jm/hlp4vkFv16vtQn/qmk+VtlordxdiAfWJRv2yvcbSpIngHjx2bs9abGhM86QsJM/9WZvATLydcWXLkwMBwYL0WDT3f71D/qy4zxyHdIj8vQ9+3e7v3rybveJb93riRmWJ+5p2G7lXtFOV0jkqdPNJ+GbQqBV5AkixJAZw3OQlmmBeFieZsWblkeZZ7Mc2CE1dRI5nM8hi5DKnjuiM2RXzGozSZ4Gz+5x33v7r3qfKIgMx/+6Z6f3l4LIYF0ygsUwG87nFofhNSxSEDfIFtYonmGhgjzFlqvwahl5Wt+eIFwQtrVbduSnCxnoQgg0i4DIU7N4q7SOItAq8gSGRQmIxWuKSHz0o0kHdrM42RnCV2fA2oYPFhaunm8LMy95Gi5VsOFY+yk+sCRhRYIsYQWKh9QYkju0senXiTq+ecK5wRHnrVLr273VaM8zG/7Z0RP/GoYOE69BRJ4YYvzBu97pTr/7t/35lFt/wQ/bQcIyiVciI/0QAs0gIPLUDM4qpeMItI48tRVPZvcZUco6YxFiyLGucOON4/Lr9vWqqw4V5OuH1WzY7pYdYVZddtYZlqcXvuH9lbzlCuvPyALEEKCRJ3yl8Gkijh/WGxElG16DvGF9siE/0n3omZxFOI087d3mZ9aFIcboPulzfaayK6a7QqA2BESeaoNWGa8SAiJPBVqTWXPsZWekCUd21pmKncmxCrG1TF0hXroBItfjwNAZQ20QH4baJojHYNN5K1HKYRzIHn7i+jBEh+/Rnc/+gx92I69AnkZWTRzLIVG2HAJDczH5Ia3JQVosVBMhIklYsWILE7JQLhapXPI1kaFuCIF6ERB5qhdf5b4iCIg8FWjI2N8J4mIz3iBVOIkbqVpk4U7+YZMfB35c8UF5afKGM30ch2tLb0OaBarWySjmtI3VaGQVgggdOPKwJ0MMq2Wt8xRm342sQMS/958fCQTInLexLLGYJeSI5/g0YWXiObP4mKnH7DyuIVc4fkOAGMKbCBF5Ir3JycKZMfEyq9ZEet0QAg0jIPLUMOAqrpsIiDzNaDeICITJ1pvK8rGCXEFusEThyD5PoBw2OcYpnOUOyMsOW5rBSBpnrF/2nLOlYWmHVSdPuMa98I2h75ENvaXONvvNb88yWmEcXPxMuRHp8kN20bVZnnAY92swWZ44e4f1mA4PZ/rFz0ZkbLyUQfQCROQJohfKHKXH8Ty9TEKUWpdCoHEERJ4ah1wFdhEBkacZrYbVhyGzWWs3MWQHyVpkrzuIGY7psZUpJkzTrkmDX1QWuZtRxc4+HhzxW5/gf/TKO97uD2bSMTxm6zyxSKbNrvP1HBzxBIp7HBAmFtdkaM4sTziFQ7osDnkz6244ZDf0h+KePcfKlTlk5wvcCOWZjJYWObF+xUN5nW0LCb4yCIg8rUxTqiJ1IiDyNANdGwqbEc0/LhN3Wn4QNojYNLIUP8NaZUOJ0/Jd0WcnTpzwPk74OXEMZ9UNKxs/i6tvcYe+Uc5ZvDhtOk6c3uKny4vj2DV5xnnZtUiTIaRzmxAQeWpTa0iW1iIg8tTSpmH4j7Wjpm0Rw1Ai28Dg76QgBISAEKgAAZGnCkBUFquPgMhTy9uYTYZjK1N8zXCighAQAkKgQgREnioEU1mtLgIiTy1uW/yXGJKLCVN8jaN4nWtLtRgaiSYEhEA9CIg81YOrcl0xBESeWtygLEfA0FxMmOJrntW5tlSLoZFoQkAI1IOAyFM9uCrXFiHw3D/d6w4++JSXiKnb+/fvD7+Litk68oT/Tg+m2hdqH9aNMrJks+nSs/G0UXAhKBVJCAiBYgiIPBXDSbE6i8CGu/bine7yzz7hycaeS9/k1tbW3Cnf/ZrhvYL1ah15ggz0fO+20HQ2ZMfwXGxhwiLFPYgVcTR0FyDThRAQAoshIPK0GH5K3WYEvGXmsPv9t7/Z7XvwX9yRg9e7H371a9xHbr3fHbj2AnfGm64YbyMxox6tIk9YnVjskfWK+h4gS1ibcArPmk3HvQt+3e1cW3PXXXdd39FS/YWAEKgIAZGnioBUNu1EgGG6S37mh7yl6WXfdaonTKwbM7j9arf1LVd3kzyxwjZ+PGx50vfA8BzDdlOsSs8//7wnzT/7sz/r1ynqO2SqvxAQAosjIPK0OIbKoc0IDDbdk5+70kGc1rZsdTfc+5xjZWSG79724QOJhQKnVaNVlifz8cH6lGVtmVaRVXtWsP7vvPBCT6CeefrpVUNA9RECQmAJCIg8LQF0FdkwAoNN9/jjj7tHnjs+LHiw6Z568il39ETxtYtbQ55YFNJW1WZhSKxQCjMRYMhuy5Yt/j2YGVkRhIAQEAIzEBB5mgGQHq8QAgvMTmsNecJJPF5Nu42zyNh+paBFqJG3a7DpbrvtM36iwJ2fv7ORIlWIEBACq42AyNNqt29va4dz+I7zL/Ybkd561a+5N2x948Sx84/2tXPYjkUfcYRm81zOdjB7zIbsbGo+s8mIxzOLxxmL1LJm4+2+1rk/u6FV796hQ4fcq047zf3xNde0Si4JIwSEQDcREHnqZrtJ6hkIGHliqA7/prPOOsudccbrwsFvyFPRgbtGLU9YyCAgzCLDMRxLkx1Zi0HGcew5Q3vLIE/Izsw3jgUsfTOat/Tj4y8cd/g74TyuIASEgBBYFAGRp0URVPp2IzA4MvZ1Ski64Q4ePNju2XbphR7N2jTrDHFh6GwZgXJ/4AeGxK9NQ3fLwEJlCgEhsLIIiDytbNOqYkPLx3CdJ4bw7nlqw4Py9AOfcGe/7rXdWKqAIThb6HEWacLqxLAew37LCgwXmpxyZl9WK6hcISAEakZA5KlmgJX9khEYbDq2Z2GhTPyemLLOkN357/5wjkUqW95Gh+3SImDNwZpkQ3JGTuIz1p6Pr6dTNv/70kvH5Omii5ovv0iJLRpOLCKu4ggBIdA+BESe2tcmkqgGBF589m731tNP9jOuWByzqK+TibJU8sQ/e4bAWNcpJkzxdVsctGMrGddTFq80bJs6P/roI+43Lnib27dvX1NFqhwhIARWFAGRpxVtWFXLENjwW7Ew0wprE35O7/+VH3ev/NHz/IKZL7qBRZx6Xip5QrIHHxr6EcWEKb7G4tNEgMgxuw+yhk+WHVi9GDKMl1Hgmns8s3icSUseFVuAcApn/a6HHnrIsSQBazthabznnns8Mqz1dcpLT/GWx3POOdex4vjF736X+8CVV/qlDEirIASEgBAogoDIUxGUFKezCLA9CxsDX/EXd46XJRgccR+/9jJPph4rxp3c0skThCMmS+lrrDwsoNlEwA9rmhUsLVv6N2nJo+Kwd+9e932veLm3LrL5M9fsZch9C8y49ET6vPP9MC7PLQ1EKw6QMc3OixHRtRAQAoaAyJMhofNqIpBl3Th+3PtBXXfRn7hOkCeGvvB5MhKCfxMWHPa2s3tYeWogJLkvhflhWflFz1XMBBxseusSlqQ4YGHCkgTRxfLE2k5Yk2IChMUJnzdbtoDnDOcRn3McsFJCtiBV993399oXLwZH10Kg5wiIPPX8BehT9R974IA7uP4h7/v0/a/+Kb/O09ObxRBYquUJosKaTxCUN24bDuEhNsSQFcbNkZy1oZoMlM+wnJU/jUARB1kXmAmIJYiVwiFAWJYufs97S9eWITosTQztzQqQL4b2iM/WLlzfvOdmT7xmpdVzISAEVhsBkafVbl/VbjREh6Ow3xx4bc2due033Z4DDw+xybJMZaC2VPKEzxDEJM9qgxUKcgWxWoCcZFS72C3kwxqWR57MUlYst4lYJ06c8KQF8gJpYtgN4oRlqGyAfPEelEkL0WJlcixWkCjyUBACQqDfCIg89bv9V7P2nhAd9o7hWClY0wlncYZ1WLLgbR8+ULreSyVPTPmfZbXBATu2SpWu4YIJ3vGOfPLE8OIC4ejRo374DNKEE/gijt1Yr7AoxUN5RUVDDkjXPGmLlqF4QkAIdAMBkadutJOkLIkASxNsPWmLtzLhLG5LE7DPXafIE0SQfeuKBLZjYYiv6YC1K16iIG2BwkF8AYsYlicID35KbQsQKqxSRYYB2ya75BECQmB+BESe5sdOKduKgLc8bbgH77rJz6pjRhUWKIbuGPrpFHlqK8Yml5G72O+J6/RvLGMFA87bZYbVCmZbSzQcyRkGxCoWz+qrpTBlKgSEQGsQEHlqTVNIkKoRYA0nju88+3VPpC746TP98A//7PyaTw8+NV6+YEbhSx22myHb0h/jNG7WJnyv8IHiMCd3njHsOCsMNr0VB78iZrhhcaoteIK9eO7ICNFj9Xr8sS677H0a1lscVuUgBFqPgMhT65tIAlaKwOCIY+gOKxT73XViqYJKAaghM3ytIEgM3cVDjFzbcN4MZ3aGv2gTCAhWwvQyBFVKDdmhrEV8p9Ly4AfFMgnIf/5554tApQHSbyGwYgiIPK1Yg6o6+Qj8+2Ofdpd84C+dLU/AP0/zhcpPNXwiy1MOQrby+c//XLa/la0HNWUdKtohttzg1F1nYLYcJKeOYTYc2mV9qrP1lLcQaAcCIk/taAdJUTcCg0135OD13oH80EbBxZ0imUSeIjDskqEvlklga5hpDuE8Iw5xMwKzIPFLA+MmAoth4qMEyVEQAkJACMyDgMjTPKgpTScREHmqodmwLE0jTlYkq6QTN8PXCL+hJmfSMcTGyuFMHqg7UDeGJBWEgBBYLQREnlarPVWbPAT+7UW3+dU9pfazi7OS5SlGo/vXECesT7U6pTvnrWkQNS1l0P13RjUQAjECIk8xGrpeGQTYEBjfFvNv8hXD6oEFZI4g8jQHaDlJsMSwzUmVDts5ReXe3rVrl18xvG4Z9u/f70556SlhP71cgfRACAiBTiEg8tSp5pKwRRFgkcy3nn6yd0SOF8ksmj4dT+QpjcicvwebYVYa6zktK0CasAbV7ZxO/XBMt1l4TZS3LExVrhDoEwIiT31q7Z7VlfWdWJaAPcmYzfWRW+93LGpoxyPPFZ/V1Svy9O1vO8eilkV8mUq+U4Yj0/oDkWBNqGPfKZlTt6KzCjkEinrXPVTYLWQkrRDoJgIiT91sN0ldBoHBEXfDBa/3m7ryD8yOM/7/9s421q6qzOP3TkKxH0zwAzGjxIASMXEQ4gfAatTUGA7hZsBMgm1Qp0gGbSfBQK3BoCJMQQdDLMFqxyiOib1mrpd7pw4yQ0GirS2pDAo6baVSnbROqDTtaMELdjhnTf7rnrXvPufu97P3Pvvlt5OT87bX2+857f3neZ71rCvuoFRBEMdHHjVGpQdyFjTy9KhAqYSsdz6cxlANqBQVyIOmXPXPJJhchXtPNFZ90swPAhAIJYB4CkXDF7Un0Oua47/ZZw8DVoKwimIqD0rhInsEyH7qPAXa2FUM9xe8DLwx+YcSDLKB8n90Tp13SaipBlSSCuReoxxfKA8uYAdgjnEv3mUAACAASURBVCN4XSnXq8xdhd7AvIAABHIngHjKHSkdjp2A/YO46G1aedYF9o/2tn3HB71MKf9ounBTkZWvx85NE1CozlUMl4jK6ZLnRXWVxHHgckJNY2ZM5h/oL8Wbubk5G0ZD0KSAxq0QgIAlgHjih9BIAr1TT5qtN37Z5jl5CxzBw9Aa8aSK4fIEueNWCsh78uyhvhUe1Fg6By9HT5c3RsQL5SHpHL0BT1jE/XwFAQhAwBFAPDkSPEMggkArxJPE5T9tGzzkt0hB4452kXjS4/77IyyQ/1cqI6D8N4Vyy75UqkHJ42WFDMteH+NBoOkEEE9NtzDry4VAY8STQmMSLRJFeh5+uJCdEzQ6VuXZZ5ffp/b6POayIbGgsdTWhezcWPJCaT7D46m9qpPnfLkEdnmgirx+eeqIOXl68BRFt/uuiPP1ilwLfUMAAosEEE/8EiCQgEBjxJO8Sw9+35jLLlsMlb3xjcb4H07IuGeF8Pzf67VCbE7oRLBzO8xUb8v2oXb+vlx40I21on+f/x61Wfe3hYgnJXCr+vfaNWsjVjHaV7tOHDSvfejDZtP+bw90JDYqoaEHx7cMoOENBGpBAPFUCzMxyXETaIx4EkgJKO1yu/CvlkJ0TsAkeV6zJpHXSfW0lFNkD+Ddcq8xEkdJ+vffU5Bwsr+nXtcrHyAxk/f1Uve06Tx+h5ncfqkVUPJA+S9XPHMcYUP/PPRanjHNN+ultsPetax90Q4CdSCAeKqDlZjj2Ak0Sjw5miqGqbBcUlEjL5ByohIm3quukeo6eTsUVctJHi+/OAp77cZycy3oWXM7dOiZQnrf+fzPzcS/Xm0m5qfMxGzHfPypr5lXTM8byx1QLO9TEeLNGyjmxXMvnzTv3HWLue3gdMyd4V/Ls6Y+EFDhjPimWQQQT82yJ6spiEAjxZNjpQrfCpWFCRl9rlwo5R4lvCRKVNNp/YYNg2JLuUvyJkUJNgmsmhfNlEiS10miyQmoM79/jdn3v4NCbevWrTZsOM7CmRI+EzOrzasfvNYc/tOxhBZeuk0eNbVVH1/57UNLX/AKAg0mgHhqsHFZWn4EGi2ehElhtTDxpNykxx9PBVOiSTvZ9u7du7ydBFSYWJOokpir+fWtI495osmKJ3mg+t6n4aWN0+sk4XPOw9cviryQ+Q3Pd/i9PGpWJM52zJseXY/3aRgQ7xtJAPHUSLOyqLwJNFo8KQynPKYw8aTPUxbMFC/lOgUKAyWsR3meFEqs8aXQlUJYntdJwqkfvpOHRknkVbms18nnHdP8hr1jUXOV+FJCvLfW+SnzpUP1F79Ra+Y7CIgA4onfAQQSEGiseJJwkidIOUZ+8TT8Ps8K4BJHUWMpbJfzuXpRJv7i3V8wd27eHHVLqu+s10l5Tno44eSeZzs2nOfPfUrVeY43e8LHP8/ZjlnzxD2JR/G8Tr71XfjYJ4zyqLgg0GQCiKcmW5e15UagseJJhFSc0okZhegUwlO9pY99bOlziakUOU+h4JWk7k8al8dLY2lMV7ogQ5gwdLwEX1x11dXm3PPOy6VkgLxOEg+eJ8aJCvc8P2VW7viAUTK5/1KVcxXtDPTU+W/M8bVE0rJ5zk/Z/KUk3qdA8aV1znbIfcrRTnRVTQKIp2rahVlVjECjxZM7ImU4UVteKQmrs//S7HvNa8y9G2+wO9NG+gOv3CkJNYXtFAr0H/+icF6/fMKPb7klFzGT5Gckz9PrXn+2UWmFUS8lTC8TJE44uee+98lfGkDVxjWHss7ZkziySd5+r5Ob38xq633yzy+IyzKvk2tP7lMQLj5rGAHEU8MMynKKIdBY8SSvj5K3tQNOXqGg62c/M9vWXWZ3z2kHnQpLKsy1e/fuZQJHBR914G6oCLjxxsXxwpLCNZ/3rTarzpi0BSTLOHfu6JGjNrF91B1v8jopYTpWPPUFywPP7fNou99XHgLO6zTkhUKGgV4nJ3768xv2jvm7k9cpVHypH3Kf/Lh43UACiKcGGpUl5U/A/XHzahblP8R4elSxTHmXomo3/fkVI4Ehb5A8JJdffrkVUtpNJy7+SwUf9fnOR3b6P158raNh5G2KCP/ZXKBTf7RjKZQmb4zOgavDpURpm+cU5M1xwsQ9z3ZsUrkTbBKJqolV9FEx4ihRpNBhYE6Wb34qtRCWmxXqdfK1J/epDr9a5piVAOIpKznatYpAY8WTP2yW0KIK2+mPvSpkDxeYVIkCeafkfVIRyIFLAi3hePqjrb4l1FSlfOMnP728v4HOx/tG9ZG8Lf9OQEQ9S2DNTxkll+sSKxXLVP5VkZdCcQP1p8LmGOAdc/Pycp3cLr2wPmY77Lxz0HhuHAHEU+NMyoKKINBY8ZQzLAkAeZ70kOdInip5o7Ke3yZRIUGmvsoIaWXC0evas+tsuK4vijwPVNT72Y5NLnc703TGnoTnSDllMQsYqHoeJnrc533v2HDV8Fivk6893qcYg/B1bQkgnmprOiZeJgHEUwLava4VOfIWucrZCkXJczSK8JGYOHDgQHRoMcH0Crml17VrnTz3DHuGnavnlEg89YWVq/ukUKe4FSWeEnudnPjRs887Jn6xuU7+tnrNzrtCfnZ0On4CiKfx24AZ1IAA4ineSMqLkli6/fbbF2/udW2ulLbgD4Twel1bQFMeJSWdhyaXRww50F/Afb3np4158qLRHr/eEtDz0kcKKyrMJnEowahQpsRF2kfcrralEUd7FVl/alj0uPcuN6t/aHBir5NrPz9F1fHRzEbrihJAPFXUMEyrWgQQT/H2kAiS52SZl2k4Gb3XteE8JYMrvKdnHSKsxHCXQB01mu7R/XqEhgP/66+N+eFE8GPPCtN9YsJ7mD0rgu+T+Aq4NKYSuzVvPfzeorAE64BuSvWkeVXPZ1YvJbVHhRT93/W9R57XSblO/u/jXpP7FGh+Pqw3AcRTve3H7EsigHjKGXSva0NxEkzyQEmEqATCMjE0LLyMsWEt1WaS8FKOlQ3pDU/PiacfTxgz9HjytgnzoQvP9B7/8tW/MFZA+e+T8AoST31vmnKw5HUKHHt4LhV4L+GjhHbtstMBxWkeEkryOKm0gtql7UPt01QtrwAupgCBWAKIp1hE3AABY7fk649140oVVMS4Ek0K+/nzffRe4TB5mJR0bnf2+cSUdvQpTCjhpZ1/A16rIPG0Z4WRcFKYTbbUs3us/9iiJ8oTWmHiSbx6Xfs7GBgvB45au7x2RfzG5BFTYnrWhzxXCi+O0j4HRHQBgcoQQDxVxhRMpMoE8DyVbx2FAd1OOxfek7fHX/dJeUbyPklE6bV3BYmnH0+Yh25YDBNKLOmhYpxWSJ17hhnwQEk8qQ9jbF7WslCkN1B+L5THpXVILBZ1ubCife51vTpOce/dfEZt7/rhGQJ1J4B4qrsFmX8pBBBP8ZjlGVICuN97FN8q/g55oLQTzR1hYsWFzwOl75V3NBDyCxFP/7N9whzacZaX7yRPlASLBJTf+6ScKPPT8219KZUPkIgr/Op1rRdNJQu4IACBahNAPFXbPsyuIgQQT/GGcOJmQMTEN0t1h7wzwzvt5BVSDpJEh+xkPVAST0oE9+cx6bU+639uk8bnlrxPfvEkL5TCgU44FRFKC1q4xkQ8BZHhMwhUiwDiqVr2YDYVJYB4ijeMvDPy4hQpnoJmIY+XhNtbz7/AepA0hysvfov58icCEsH9YmrPChvGk0BS7pMEkwSV2um9+gs8ZiZoEjl9hnjKCSTdQKBgAoinggHTfTMIIJ7i7eg8T1nqNsX3Hn+Hxt27d6+tISURIk+S8zINe6C2rFrMfRpOGHfiybYN2m0XP42R7pCQK/qIlpEmWEJjJabfdnDa7u4rYTiGgEAmAoinTNho1DYCiKd4i6s4pkSL3RUXf3uxd4TkPDkRpVIFLgl9mYdqzwqj3KjPfvAdy2tWFTtrm2Ol31qbL5VEUGVyHe0yfDRMm7mw9moRQDxVyx7MpqIEEE/xhlHtJYXMBna9xTcr5o6E4kkeJokniSUnrOR90nutRWJQZRK4yiHgHSHTL+b5ld8+VM7AjAKBlAQQTymBcXs7CSCe4u2uY1gUuisruTpyRlHiqZ/rJO+T8pz08IsnK6L2rLC78lS4U7v78t5BGDn3Fn9pvU7uaJehg5NbjIWlV5AA4qmCRmFK1SOAeKqeTSJnFCGe5FlSiQJ5nFySuPM6ec/9Ok8qgzCuHK7I9TXwS8/rpONffAIK71MDjd2AJSGeGmBEllA8AcRTAsb9o0sqITbCxFP/HDuX8/TevxmqLO5240VVGE+AIsst4iax1lYvl+d10ll5PvFE7lOWXxNtiiaAeCqaMP03ggDiKd6M+qOvekulFJSMm06YeJI4+uHi2XZKGE8rnlyxziLKMeiwYfGrRMJ9HN+cvw/0OjkBNT9l8D7lDJzuRiaAeBoZIR20gQDiKZmVVRupElvtnXiSB2n40T/jzoXtbDkDd09fXNk2AaUKdDSMRNe7Vr0v99wuVycr7zPzklhOXh8dHjyuK9Dr5MQTuU/jMgvjRhBAPEXA4SsIOAKIJ0ci+lnJ1UqyHmvoTke3/HqLMRI/KR7Kf1I4T8e32HaH/n75Yntde7aeK6KZ15l3Ekw6BFmirOxr14mDZuWOD5jO43fYw3/LHj/S6+QTUHifyrYM40URQDxF0eE7CPQJIJ6S/RTESYUedcZdoqvXNfsf/Wd7rMozx1+yTY499YBRCGtu/x+iu+idMHtn77H36my7vfuPLt3vO/tu6cPoVypJoLn7Dx4Oa6GdhQqxqZSBXo96HThwwPZ1662fGbWrVO094dIvDbDz+Z+nap/HzZFeJ594IvcpD9r0kRcBxFNeJOmn0QQQT8nMKxGgsJbET7Jrwajat0TLtn3HTe/Uk9b7s/KsC+z7sD56L//ObFt3mW2n8fR4w/nvjhdcYR0aY4+VUW2npDlbqmelEGUedaDm5ubsGso+DkbCRV6nCSVpz3bMO3fdUqr3yRNv/h12TjANP5P7FPHr5auyCSCeyibOeLUkgHhKZjYlUqvWk8RAsmthUQSddYEVPg/fdaU9V+6m7zwd2Vwi6/PXX2PbKEQoISUB1fncjsh2cV8qbHbJJZcsO3w4rF1eO+N0rIxEW5nhzmXCRQJqfsp868hjYcvN/fNEXicnoqg6njt/OsxOAPGUnR0tW0QA8VSQsXsnFoXP5CqjCuWrzpg079lwvznW1XgLNiwnMeZ/bLrzm8aF+Nyspj91hfVCxYkud3/Y852bN9t+suYyvfDCCyZzwneGUGPYOmI/73Xt2XFeSQCfQJH3qfBjUXpd6+FSnpU8Xsvm4eYz/Iz3Kda03FAOAcRTOZwZpeYEEE9FGbDveXrVSnscyjlvW2N+cPL04mC9E8aJIoX13MPd0/3FtLny4rcY7fBTAveqa+82z/ZGm6c8QMplSpyz5RtOXqi1a9baRxGlDHxDjfxSXieJpGXCpR++K8P7ZL1O/ppOw0Ip6H3f+3T4T8dGZkAHEBiFAOJpFHq0bQ0BxFMBpraelqWwnXabSSBdd9+u0MFeMT1j+h4aJZave+/b7S41CSjlSanti6Gtk31hPUcZvUDK9dIatBYVvKzqJXFk85yCxMtsx7zp0fXmuZdPFjp9eZ0mt19qJpSsnvIh4cUFgXESQDyNkz5j14YA4imdqSQcZmZmEgiIRfE0MbnKTO86aDa9/81Gr3cfXbAiSbvpVP7A/1h7832L3/umJC+UQn5q+5NTI7qffP1meal8LyWeS9DZ8F+EEFOYT5yUaF/WJVEU6HXye3pmO+ZLh2YLnZJ29qn8gIRcmmfdi+epUNPQeQICiKcEkLgFAoindL8Bhb/kgVEJgcirn/Mkr9G9vzamu2eLFR4KwcmDtOOuj9gt/CoJ4B4K20lwSFBJcGnX20+/fqMdT9+NGrqLnG/CL1W+QPNVCDDKA6V1iJN+X2VdEh/LwnV+4aTX81OleJ/KWjPjQCBvAoinvInSXyMJIJ7SmVX5P9q1poKZ8q6EX/1SBa40QV9MKYcpKvlbu+0++8F32B12rlSBhJPEVB6X5jxq3pIEpMJ4YesXI5U6kMgadayka5bXSSG5JOJJ99x2cDpp19wHgVYRQDy1ytwsNisBxFN6cq52UWTZgl7XPPvULlsrye2g++Pzv7KlDgaKXgYMr1pPe+e+a+9VrSXXPuDWVB9J7Cjxe+MnP52qXdqbFdKTSNQuw7IuheJihZPzQs12zDkPX0+IrCzjME6tCCCeamUuJjsuAoin9OTlTZHnKdb7FJETZBPE0w89Wote1x6TopBb5rIDATNQX9rF5/qUQFNuVFRYL6CbzB8pT0hiKLF4koia7ZhN+7+deUwaQqCpBBBPTbUs68qVAOIpG07lPCkslbVuUrZRR221YFZt2WJF3+GTh0btzGuv3CyJJYmmQ4eesf2XeRyLRFAq4dTPfXrtQx8e66HBHkBeQKBCBBBPFTIGU6kuAcRTNtsoBCahEJb3k63XYltpF5g9smS2Y3eB5TWaGCgHSjlaqmSupPK8KpTHzVFeJ4mgLKUB1GbNE/fEDcH3EGgVAcRTq8zNYrMSQDxlJVevdgoTelWv56eMDqPNu96RdtjJAyUBJW9UGZfE08ef+poVQRJCaR/aoccFAQgsEUA8LbHgFQRCCSCeQtE06gt5nexRIa54ZEE7zlwpA4XwKn8pJy0iL63y82eCECiAAOKpAKh02TwCiKfRbarwXdTW/dFHGK2HZQfl9nN+8tpxphCd1u/yv1QYsyzP02hkaA0BCAwTQDwNE+E9BAIIIJ4CoKT8SOEq5fuUmSSdZor2yJK+YBo4qDanHWdKntf6JaC4IACBehNAPNXbfsy+JAKIpxxA97q2KrhqG0XWfsphqLRdnDz9YviRJbMdm2z9y1NH0nbr3e8qruvMu7DkeVdU05Uy8BrzAgIQqBwBxFPlTMKEqkgA8ZSPVVT7SZXHlTAtsVCVK/KgXHmjZlbbhOss81W4UufcqWSDXodd8kxJWCoPqqyK42FzSfq5kuklPLkg0DYCiKe2WZz1ZiKAeMqELbCRBISEhIpnVkEk6I+/dtVF1kCanzKvfvDa1PWOlOckb1MSsaidfv5SBmUVzww0UoIPXY6Ydu6NpZhpgjlyCwSKIoB4Koos/TaKAOIpX3Oq0rY8LVUIUdmDcrW7zu2wk6cp6DHbSe19knhSrpceSa/t09vtYcESl0oqr+r1wHP7FgXn/JTRay4ItIkA4qlN1matmQkgnjKjq3TDRF4nJ6Tmp8yZ37/GqJxB0ZfO6ps89wxz4zf+oeihMvUvr9M7d92yKJ5mO7Y2lj7jgkBbCCCe2mJp1jkSAcTTSPhiG8sDNQ4vlHdQbpzXyQmo2Y4tMBkVpspjLTYHa2Z1plBhLOwcbrBeJzHpe+xUkR3vUw5g6aI2BBBPtTEVEx0nAcRTsfSV66MwVZlJ5JkOyo3xPimfS5XDRynHoHm96dH1i8IkQ6iwWEsZM+B18olKVWbH+1Q0ffqvCgHEU1UswTwqTQDxVKx5dj6y0+5IU2K1WJdx2YNyZ1Z73hPnRYl9nlltQ1bDQkFrOPe882wyvPKWsl63HZxeSl7vi7VdJw5m7S73dgNeJyee+p47vE+546bDihJAPFXUMEyrWgQQT8XbQ7vLrrrqartdf/2GDabo3WbaJaYcJu2iS/uQZ8ideae6TXdu3myTvFWGwVUQz0JMtaR0gO9A8no/pygqVJhlrCxtFJL0cp2ccHLPFZpnlrXRBgJpCCCe0tDi3tYSQDyVY3r9cVbIa+WrVpov3v2FQgdVsvgoD3femzvo96Prrhu59IIO711WMqFCXh3rdernOS3bkTg/Zch9KvQnS+cVIoB4qpAxmEp1CSCeyrWNDs4t2vPkX5H16vgOvx1+7793+LVqVWm+o14KzckTNuB18nl15PEZR1K9W1dgrpObn3tm553DxXPDCSCeGm5glpcPAcRTPhyz9iLRIA/PuA/SlaBTPtPvjx3LupTAdhImSrhe5nVyokTP81NGNanGdQXmOvnn15+j5knu07isxLhlEUA8lUWacWpNAPE0RvP1utYLpSNOFM5TWM96enyeoqJnp12At99+u00G1xzy3hUYGQ5zAmW2Y3fhuVyrotfs71/iNVbc+ebJzjs/PV43kQDiqYlWZU25E0A85Y40VYeq1C3BokRy7ciTgFFJgKIPGFYldB2vovEmJibsuXPaVRd2uG+qRfVvThQO8wkT7RIs+0ok7twcK5SjVTYnxmsPAcRTe2zNSkcggHgaAV7OTRUy09Eu8kTp2X8p/0hHmuiepPlBEma6XzWahsNxEmcaR94u9at7874SHw8jcTLbMec8fH3qM/ZGmXMqcecE1GwnsJzDKPOgLQSqRADxVCVrMJfKEkA8VdM0wwLJHawrwSOPkXbASfgMlw84fPiwPYR34yc/bcsjqECnvEsbb75pYKFWLBUYHlQIzhbEnO0En6fnxIj/eWZ16jP2BhaV8o2tdi5vkubodtrFPffvVVsuCDSRAOKpiVZlTbkTQDzljrSQDuUdkjdK4T2F9VS0cnJy0gol/4A6O05i6XWvP9uoNpNElkojDIssf5siXttCnWmEk0RUTJXzvOepop1p62DpfpUt0PE3XBBoIgHEUxOtyppyJ4B4yh1p4R3Ka6TcJIXyhj1U+k6f6/siQnFJFqdjWFQQc3L7pWZClc5TPNRGRT7LuBS2y1oPS225INBEAoinJlqVNeVOAPGUO9LWdyhBorCWvDNZHpQDaP1PCABjJIB4GiN8hq4PAcRTfWzFTCEAAQgUTQDxVDRh+m8EAcRTI8zIIiAAAQjkQgDxlAtGOmk6AcRT0y3M+iAAAQgkJ4B4Ss6KO1tMAPHUYuOzdAhAAAJDBBBPQ0B4C4EgAoinICp8BgEIQKCdBBBP7bQ7q05JAPGUEhi3QwACEGgwAcRTg43L0vIjgHjKjyU9QQACEKg7AcRT3S3I/EshgHgqBTODQAACEKgFAcRTLczEJMdNAPE0bgswPgQgAIHqEEA8VccWzKTCBBBPFTYOU4MABCBQMgHEU8nAGa6eBBBP9bQbs4YABCBQBAHEUxFU6bNxBBBPjTMpC4IABCCQmQDiKTM6GraJAOKpTdZmrRCAAASiCSCeovnwLQQsAcQTPwQIQAACEHAEEE+OBM8QiCCAeIqAw1cQgAAEWkYA8dQyg7PcbAQQT9m40QoCEIBAEwkgnppoVdaUOwHEU+5I6RACEIBAbQkgnmprOiZeJgHEU5m0GQsCEIBAtQkgnqptH2ZXEQKIp4oYgmlAAAIQqAABxFMFjMAUqk8A8VR9GzFDCEAAAmURQDyVRZpxak0A8VRr8zF5CEAAArkSQDzlipPOmkoA8dRUy7IuCEAAAukJIJ7SM6NFCwkgnlpodJYMAQhAIIQA4ikEDB9DwE8A8eSnwWsIQAAC7SaAeGq3/Vl9QgKIp4SguA0CEIBACwggnlpgZJY4OgHE0+gM6QECEIBAUwggnppiSdZRKAHEU6F46RwCEIBArQggnmplLiY7LgKIp3GRZ1wIQAAC1SOAeKqeTZhRBQkgnipoFKYEAQhAYEwEEE9jAs+w9SKAeKqXvZgtBCAAgSIJIJ6KpEvfjSGAeGqMKVkIBCAAgZEJIJ5GRkgHbSCAeGqDlVkjBCAAgWQEEE/JOHFXywkgnlr+A2D5EIAABHwEEE8+GLyEQBgBxFMYGT6HAAQg0D4CiKf22ZwVZyCAeMoAjSYQgAAEGkoA8dRQw7KsfAkgnvLlSW8QgAAE6kwA8VRn6zH30gggnkpDzUAQgAAEKk8A8VR5EzHBKhBAPFXBCswBAhCAQDUIIJ6qYQdmUXECiKeKG4jpQQACECiRAOKpRNgMVV8CiKf62o6ZQwACEMibAOIpb6L010gCiKdGmpVFQQACEMhEAPGUCRuN2kYA8dQ2i7NeCEAAAuEEEE/hbPgGAh4BxJOHghcQgAAEWk8A8dT6nwAAkhBAPCWhxD0QgAAE2kEA8dQOO7PKEQkgnkYESHMIQAACDSKAeGqQMVlKcQQQT8WxpWcIQAACdSOAeKqbxZjvWAggnsaCnUEbTOD3x46Z9Rs2mK1bt5oXXnihwStlaU0kgHhqolVZU+4EZmZmzMTEhNF/+FwQgEAOBHpd89F119l/V5dffrnZ+cjOHDqlCwiUQwDxVA5nRqkwgdOnT5unn3468nHn5s32P/kHH/xB5H1x/fB9NGf4tIfPgQMHzBNP/Ke59dbP2H9bK1+10nqi9Ln+TXJBoMoEEE9Vtg5zK4XA4cOH7X/e8izxgAG/gfH+Bl73+rPNj370o1L+7TMIBLISQDxlJUe7xhBQvsXc3FzkQ7kZ+qOq/Iy4e/k+miV84ON+A/Lk6t/UW8+/wP77Ove88+z7o0eONub/FxbSTAKIp2balVXlTICcp5yB0h0EjDESTxdddLGRaNp4800G0cTPoi4EEE91sRTzHCsBdtuNFT+DN5CAhNIll1xilCy+e/fuBq6QJTWZAOKpydZlbbkRQDzlhpKOIGAJKClc+YYvvfwSRCBQOwKIp9qZjAmPgwDiaRzUGRMCEIBANQkgnqppF2ZVMQKIp4oZpAXTkWfmFdNbttKwzwdu7HUH3oa/WTDfu/dWc8c3dgaOFd6ObyDQbgKIp3bbn9UnJIB4SgiK23Ij8KvvbjJvX/13ZvfRhX6fC2bHXR8x79lwvzkWoY1O7P2qufLit5jO53YkEEQLZvpTVyS8N7el0REEak8A8VR7E7KAwgn0usaJp0OHnil8OAaAgAj0Tj1pPnThmVbY6L1Ekbb0f+7f/zscUK9rBZbuk/B6eiFCZfl7Seyp8jfiNQTaSwDx1F7bs/IUBLQbaO2atRzPkoIZt45O4Mh/bDZvOP/dZnrXQfPZD77DCqkXI7p95fnHzFVXXW2+suNJe78TWr2Xf2c+f/01CSpvPwAAArpJREFUnvDSfSoNIK/WT79+ow3bqVsJNt2n3/ram+9LLr4i5sRXEGgiAcRTE63KmgohwJERhWCl0ygCvRNm27rLbB2kwRBecCMX6nu2Z8zDd11pVl17dz/Et2Dfn/O2NVYQKVSn706eftH2r1Cg6Z2wguu6+3bZXXDbp7ebbfuOBw/EpxBoOQHEU8t/ACwfAhCoNgF5n1TdXgJnIIFcoTb3sEtYsEJIuU66nNdqbv8f7Ht5n+S9Ul0lT4j1ugPiadP732xFlcTXYqP+GP23PEEAAosEEE/8EiAAAQhUlIBf8Lxr1fuME0L/9+y/mY+uu86G16bWbjQ/OdWzITeXKK4DlvfO3mNWnTFpbvrO097qJKh0AK/1NNlPFwWXE2bHnnrArHvv263AkmfqmePUYPLg8QICPgKIJx8MXkIAAhCoDIFe1+y6d51RqO3wn45ZD5EXhnvpJXPy5Embg6dneaQkjHTMifKVJKz0kJhSG+VJDQux6d8vWM+VwoJOPC2ufcEc/80+K6L0eVSOVWVYMREIlEwA8VQycIaDAAQgkISAvEASP85z1P3FtN1tp/cD4bu+MFLIzYXsbP+9rrdDT7lLEmIK10lsSTBddMUdNh/KiScli6vek7xNTmipP8RTEmtxT9sIIJ7aZnHWCwEIVJ9A3+vkeZo0434ZAn3m5ST1V6Ldc/I4DSd4u91zm+785sDuO4X9tCtPu/hUO+qGf5wz5tQfbcFMfa6HdttF1ZOqPkRmCIHiCCCeimNLzxCAAATyJxBUk+nPrywmjweMJi/VsKfK3Rb0uXaVejtLg8ZyjXmGQIsJIJ5abHyWDgEIQAACEIBAegKIp/TMaAEBCEAAAhCAQIsJIJ5abHyWDgEIQAACEIBAegKIp/TMaAEBCEAAAhCAQIsJIJ5abHyWDgEIQAACEIBAegL/D0p3s/oCUMKKAAAAAElFTkSuQmCC)"
      ]
    },
    {
      "cell_type": "code",
      "metadata": {
        "colab": {
          "base_uri": "https://localhost:8080/",
          "height": 226
        },
        "id": "T0yZmJzx4XDb",
        "outputId": "8b18128c-8b92-44d1-896d-d8b89a30794b"
      },
      "source": [
        "train_x,val_x,train_y,val_y = train_test_split(X,y,random_state=32)\n",
        "\n",
        "model = KNeighborsClassifier (n_neighbors=9,weights = 'distance')\n",
        "model.fit(train_x,train_y)\n",
        "submission = pd.read_csv(DATA_IN+'/sample_submission.csv')\n",
        "test = test_data/255.0 #Remember the normalize the test data like we did for the training data\n",
        "test = model.predict(test_data)"
      ],
      "execution_count": null,
      "outputs": [
        {
          "output_type": "error",
          "ename": "NameError",
          "evalue": "ignored",
          "traceback": [
            "\u001b[0;31m---------------------------------------------------------------------------\u001b[0m",
            "\u001b[0;31mNameError\u001b[0m                                 Traceback (most recent call last)",
            "\u001b[0;32m<ipython-input-10-2fbef4496121>\u001b[0m in \u001b[0;36m<module>\u001b[0;34m()\u001b[0m\n\u001b[1;32m     10\u001b[0m \u001b[0mtest\u001b[0m \u001b[0;34m=\u001b[0m \u001b[0mtest_data\u001b[0m\u001b[0;34m/\u001b[0m\u001b[0;36m255.0\u001b[0m \u001b[0;31m#Remember the normalize the test data like we did for the training data\u001b[0m\u001b[0;34m\u001b[0m\u001b[0;34m\u001b[0m\u001b[0m\n\u001b[1;32m     11\u001b[0m \u001b[0mtest\u001b[0m \u001b[0;34m=\u001b[0m \u001b[0mmodel\u001b[0m\u001b[0;34m.\u001b[0m\u001b[0mpredict\u001b[0m\u001b[0;34m(\u001b[0m\u001b[0mtest_data\u001b[0m\u001b[0;34m)\u001b[0m\u001b[0;34m\u001b[0m\u001b[0;34m\u001b[0m\u001b[0m\n\u001b[0;32m---> 12\u001b[0;31m \u001b[0msubmission\u001b[0m\u001b[0;34m[\u001b[0m\u001b[0;34m'Label'\u001b[0m\u001b[0;34m]\u001b[0m \u001b[0;34m=\u001b[0m \u001b[0mpredictions\u001b[0m\u001b[0;34m\u001b[0m\u001b[0;34m\u001b[0m\u001b[0m\n\u001b[0m\u001b[1;32m     13\u001b[0m \u001b[0msubmission\u001b[0m\u001b[0;34m.\u001b[0m\u001b[0mto_csv\u001b[0m\u001b[0;34m(\u001b[0m\u001b[0;34m'submission.csv'\u001b[0m\u001b[0;34m,\u001b[0m\u001b[0mindex\u001b[0m\u001b[0;34m=\u001b[0m\u001b[0;32mFalse\u001b[0m\u001b[0;34m)\u001b[0m\u001b[0;34m\u001b[0m\u001b[0;34m\u001b[0m\u001b[0m\n",
            "\u001b[0;31mNameError\u001b[0m: name 'predictions' is not defined"
          ]
        }
      ]
    },
    {
      "cell_type": "code",
      "metadata": {
        "colab": {
          "base_uri": "https://localhost:8080/"
        },
        "id": "4aC9owH3JpxY",
        "outputId": "17f3dace-ffba-4d4f-d74b-c50b51c5fac4"
      },
      "source": [
        "submission['Label'] = test\n",
        "submission.to_csv('submission.csv',index=False)\n",
        "print(submission)"
      ],
      "execution_count": null,
      "outputs": [
        {
          "output_type": "stream",
          "name": "stdout",
          "text": [
            "       ImageId  Label\n",
            "0            1      2\n",
            "1            2      0\n",
            "2            3      9\n",
            "3            4      9\n",
            "4            5      3\n",
            "...        ...    ...\n",
            "27995    27996      9\n",
            "27996    27997      7\n",
            "27997    27998      3\n",
            "27998    27999      9\n",
            "27999    28000      2\n",
            "\n",
            "[28000 rows x 2 columns]\n"
          ]
        }
      ]
    },
    {
      "cell_type": "code",
      "metadata": {
        "colab": {
          "base_uri": "https://localhost:8080/"
        },
        "id": "mZvYWkGrJ0Iv",
        "outputId": "2d0b772a-3128-4c8b-dd07-883b7f53e6ac"
      },
      "source": [
        "submission.to_csv('submission.csv', header=True,index=False)\n",
        "!kaggle competitions submit -c digit-recognizer -f submission.csv -m \"use k-means classifier\""
      ],
      "execution_count": null,
      "outputs": [
        {
          "output_type": "stream",
          "name": "stdout",
          "text": [
            "Warning: Looks like you're using an outdated API Version, please consider updating (server 1.5.12 / client 1.5.4)\n",
            "100% 208k/208k [00:03<00:00, 59.5kB/s]\n",
            "Successfully submitted to Digit Recognizer"
          ]
        }
      ]
    },
    {
      "cell_type": "markdown",
      "metadata": {
        "id": "vtVeyaOMA_OM"
      },
      "source": [
        "## Classification Model - XGBoost Classifier"
      ]
    },
    {
      "cell_type": "code",
      "metadata": {
        "id": "qO0bVC0q4XJS",
        "colab": {
          "base_uri": "https://localhost:8080/",
          "height": 941
        },
        "outputId": "5d56fcaa-b5bd-4f07-c169-c36bceda65b7"
      },
      "source": [
        "xgboost = XGBClassifier()\n",
        "xgboost.fit(train_x,train_y)\n",
        "submission = xgboost.predict(test_data)\n",
        "score = accuracy_score(preds,val_y)*100\n",
        "print('Error: ',score)\n",
        "submission.to_csv('submission.csv', header=True,index=False)\n",
        "!kaggle competitions submit -c digit-recognizer -f submission.csv -m \"use XGBoost classifier\""
      ],
      "execution_count": null,
      "outputs": [
        {
          "output_type": "error",
          "ename": "ValueError",
          "evalue": "ignored",
          "traceback": [
            "\u001b[0;31m---------------------------------------------------------------------------\u001b[0m",
            "\u001b[0;31mValueError\u001b[0m                                Traceback (most recent call last)",
            "\u001b[0;32m<ipython-input-14-50c1096f8805>\u001b[0m in \u001b[0;36m<module>\u001b[0;34m()\u001b[0m\n\u001b[1;32m      1\u001b[0m \u001b[0mxgboost\u001b[0m \u001b[0;34m=\u001b[0m \u001b[0mXGBClassifier\u001b[0m\u001b[0;34m(\u001b[0m\u001b[0;34m)\u001b[0m\u001b[0;34m\u001b[0m\u001b[0;34m\u001b[0m\u001b[0m\n\u001b[1;32m      2\u001b[0m \u001b[0mxgboost\u001b[0m\u001b[0;34m.\u001b[0m\u001b[0mfit\u001b[0m\u001b[0;34m(\u001b[0m\u001b[0mtrain_x\u001b[0m\u001b[0;34m,\u001b[0m\u001b[0mtrain_y\u001b[0m\u001b[0;34m)\u001b[0m\u001b[0;34m\u001b[0m\u001b[0;34m\u001b[0m\u001b[0m\n\u001b[0;32m----> 3\u001b[0;31m \u001b[0msubmission\u001b[0m \u001b[0;34m=\u001b[0m \u001b[0mxgboost\u001b[0m\u001b[0;34m.\u001b[0m\u001b[0mpredict\u001b[0m\u001b[0;34m(\u001b[0m\u001b[0mtest_data\u001b[0m\u001b[0;34m)\u001b[0m\u001b[0;34m\u001b[0m\u001b[0;34m\u001b[0m\u001b[0m\n\u001b[0m\u001b[1;32m      4\u001b[0m \u001b[0mscore\u001b[0m \u001b[0;34m=\u001b[0m \u001b[0maccuracy_score\u001b[0m\u001b[0;34m(\u001b[0m\u001b[0mpreds\u001b[0m\u001b[0;34m,\u001b[0m\u001b[0mval_y\u001b[0m\u001b[0;34m)\u001b[0m\u001b[0;34m*\u001b[0m\u001b[0;36m100\u001b[0m\u001b[0;34m\u001b[0m\u001b[0;34m\u001b[0m\u001b[0m\n\u001b[1;32m      5\u001b[0m \u001b[0mprint\u001b[0m\u001b[0;34m(\u001b[0m\u001b[0;34m'Error: '\u001b[0m\u001b[0;34m,\u001b[0m\u001b[0mscore\u001b[0m\u001b[0;34m)\u001b[0m\u001b[0;34m\u001b[0m\u001b[0;34m\u001b[0m\u001b[0m\n",
            "\u001b[0;32m/usr/local/lib/python3.7/dist-packages/xgboost/sklearn.py\u001b[0m in \u001b[0;36mpredict\u001b[0;34m(self, data, output_margin, ntree_limit, validate_features)\u001b[0m\n\u001b[1;32m    789\u001b[0m                                                  \u001b[0moutput_margin\u001b[0m\u001b[0;34m=\u001b[0m\u001b[0moutput_margin\u001b[0m\u001b[0;34m,\u001b[0m\u001b[0;34m\u001b[0m\u001b[0;34m\u001b[0m\u001b[0m\n\u001b[1;32m    790\u001b[0m                                                  \u001b[0mntree_limit\u001b[0m\u001b[0;34m=\u001b[0m\u001b[0mntree_limit\u001b[0m\u001b[0;34m,\u001b[0m\u001b[0;34m\u001b[0m\u001b[0;34m\u001b[0m\u001b[0m\n\u001b[0;32m--> 791\u001b[0;31m                                                  validate_features=validate_features)\n\u001b[0m\u001b[1;32m    792\u001b[0m         \u001b[0;32mif\u001b[0m \u001b[0moutput_margin\u001b[0m\u001b[0;34m:\u001b[0m\u001b[0;34m\u001b[0m\u001b[0;34m\u001b[0m\u001b[0m\n\u001b[1;32m    793\u001b[0m             \u001b[0;31m# If output_margin is active, simply return the scores\u001b[0m\u001b[0;34m\u001b[0m\u001b[0;34m\u001b[0m\u001b[0;34m\u001b[0m\u001b[0m\n",
            "\u001b[0;32m/usr/local/lib/python3.7/dist-packages/xgboost/core.py\u001b[0m in \u001b[0;36mpredict\u001b[0;34m(self, data, output_margin, ntree_limit, pred_leaf, pred_contribs, approx_contribs, pred_interactions, validate_features)\u001b[0m\n\u001b[1;32m   1282\u001b[0m \u001b[0;34m\u001b[0m\u001b[0m\n\u001b[1;32m   1283\u001b[0m         \u001b[0;32mif\u001b[0m \u001b[0mvalidate_features\u001b[0m\u001b[0;34m:\u001b[0m\u001b[0;34m\u001b[0m\u001b[0;34m\u001b[0m\u001b[0m\n\u001b[0;32m-> 1284\u001b[0;31m             \u001b[0mself\u001b[0m\u001b[0;34m.\u001b[0m\u001b[0m_validate_features\u001b[0m\u001b[0;34m(\u001b[0m\u001b[0mdata\u001b[0m\u001b[0;34m)\u001b[0m\u001b[0;34m\u001b[0m\u001b[0;34m\u001b[0m\u001b[0m\n\u001b[0m\u001b[1;32m   1285\u001b[0m \u001b[0;34m\u001b[0m\u001b[0m\n\u001b[1;32m   1286\u001b[0m         \u001b[0mlength\u001b[0m \u001b[0;34m=\u001b[0m \u001b[0mc_bst_ulong\u001b[0m\u001b[0;34m(\u001b[0m\u001b[0;34m)\u001b[0m\u001b[0;34m\u001b[0m\u001b[0;34m\u001b[0m\u001b[0m\n",
            "\u001b[0;32m/usr/local/lib/python3.7/dist-packages/xgboost/core.py\u001b[0m in \u001b[0;36m_validate_features\u001b[0;34m(self, data)\u001b[0m\n\u001b[1;32m   1688\u001b[0m \u001b[0;34m\u001b[0m\u001b[0m\n\u001b[1;32m   1689\u001b[0m                 raise ValueError(msg.format(self.feature_names,\n\u001b[0;32m-> 1690\u001b[0;31m                                             data.feature_names))\n\u001b[0m\u001b[1;32m   1691\u001b[0m \u001b[0;34m\u001b[0m\u001b[0m\n\u001b[1;32m   1692\u001b[0m     \u001b[0;32mdef\u001b[0m \u001b[0mget_split_value_histogram\u001b[0m\u001b[0;34m(\u001b[0m\u001b[0mself\u001b[0m\u001b[0;34m,\u001b[0m \u001b[0mfeature\u001b[0m\u001b[0;34m,\u001b[0m \u001b[0mfmap\u001b[0m\u001b[0;34m=\u001b[0m\u001b[0;34m''\u001b[0m\u001b[0;34m,\u001b[0m \u001b[0mbins\u001b[0m\u001b[0;34m=\u001b[0m\u001b[0;32mNone\u001b[0m\u001b[0;34m,\u001b[0m \u001b[0mas_pandas\u001b[0m\u001b[0;34m=\u001b[0m\u001b[0;32mTrue\u001b[0m\u001b[0;34m)\u001b[0m\u001b[0;34m:\u001b[0m\u001b[0;34m\u001b[0m\u001b[0;34m\u001b[0m\u001b[0m\n",
            "\u001b[0;31mValueError\u001b[0m: feature_names mismatch: ['f0', 'f1', 'f2', 'f3', 'f4', 'f5', 'f6', 'f7', 'f8', 'f9', 'f10', 'f11', 'f12', 'f13', 'f14', 'f15', 'f16', 'f17', 'f18', 'f19', 'f20', 'f21', 'f22', 'f23', 'f24', 'f25', 'f26', 'f27', 'f28', 'f29', 'f30', 'f31', 'f32', 'f33', 'f34', 'f35', 'f36', 'f37', 'f38', 'f39', 'f40', 'f41', 'f42', 'f43', 'f44', 'f45', 'f46', 'f47', 'f48', 'f49', 'f50', 'f51', 'f52', 'f53', 'f54', 'f55', 'f56', 'f57', 'f58', 'f59', 'f60', 'f61', 'f62', 'f63', 'f64', 'f65', 'f66', 'f67', 'f68', 'f69', 'f70', 'f71', 'f72', 'f73', 'f74', 'f75', 'f76', 'f77', 'f78', 'f79', 'f80', 'f81', 'f82', 'f83', 'f84', 'f85', 'f86', 'f87', 'f88', 'f89', 'f90', 'f91', 'f92', 'f93', 'f94', 'f95', 'f96', 'f97', 'f98', 'f99', 'f100', 'f101', 'f102', 'f103', 'f104', 'f105', 'f106', 'f107', 'f108', 'f109', 'f110', 'f111', 'f112', 'f113', 'f114', 'f115', 'f116', 'f117', 'f118', 'f119', 'f120', 'f121', 'f122', 'f123', 'f124', 'f125', 'f126', 'f127', 'f128', 'f129', 'f130', 'f131', 'f132', 'f133', 'f134', 'f135', 'f136', 'f137', 'f138', 'f139', 'f140', 'f141', 'f142', 'f143', 'f144', 'f145', 'f146', 'f147', 'f148', 'f149', 'f150', 'f151', 'f152', 'f153', 'f154', 'f155', 'f156', 'f157', 'f158', 'f159', 'f160', 'f161', 'f162', 'f163', 'f164', 'f165', 'f166', 'f167', 'f168', 'f169', 'f170', 'f171', 'f172', 'f173', 'f174', 'f175', 'f176', 'f177', 'f178', 'f179', 'f180', 'f181', 'f182', 'f183', 'f184', 'f185', 'f186', 'f187', 'f188', 'f189', 'f190', 'f191', 'f192', 'f193', 'f194',...\nexpected f498, f639, f57, f23, f163, f15, f367, f118, f369, f102, f637, f680, f217, f559, f345, f768, f192, f460, f199, f52, f529, f710, f258, f275, f664, f41, f440, f97, f250, f456, f703, f85, f537, f550, f314, f437, f712, f11, f741, f295, f388, f60, f220, f65, f376, f582, f157, f307, f68, f694, f86, f495, f140, f776, f575, f303, f20, f262, f175, f487, f207, f171, f261, f749, f652, f589, f698, f552, f661, f733, f272, f455, f561, f169, f108, f195, f494, f203, f341, f308, f48, f196, f631, f386, f497, f514, f227, f393, f475, f665, f669, f684, f58, f55, f655, f714, f154, f644, f484, f322, f433, f547, f577, f745, f276, f621, f359, f545, f401, f723, f27, f269, f87, f133, f670, f642, f340, f66, f291, f407, f690, f718, f256, f686, f339, f777, f106, f459, f557, f398, f603, f266, f510, f213, f685, f101, f590, f156, f286, f481, f3, f395, f565, f491, f306, f477, f660, f164, f486, f761, f221, f319, f771, f149, f146, f181, f539, f435, f278, f562, f476, f352, f88, f243, f774, f722, f406, f519, f516, f337, f402, f382, f159, f654, f601, f452, f731, f120, f355, f110, f142, f280, f415, f305, f112, f147, f271, f70, f233, f625, f451, f674, f387, f428, f231, f530, f560, f587, f16, f521, f671, f336, f167, f30, f531, f40, f594, f596, f255, f555, f518, f613, f647, f535, f174, f464, f707, f586, f263, f507, f583, f184, f766, f123, f370, f505, f257, f166, f96, f215, f316, f107, f478, f357, f374, f326, f638, f678, f450, f354, f767, f143, f324, f697, f212, f162, f417, f349, f743, f700, f46, f179, f628...\ntraining data did not have the following fields: pixel183, pixel647, pixel651, pixel258, pixel224, pixel399, pixel551, pixel170, pixel554, pixel502, pixel476, pixel721, pixel199, pixel570, pixel24, pixel644, pixel778, pixel162, pixel533, pixel609, pixel577, pixel700, pixel89, pixel122, pixel171, pixel720, pixel505, pixel331, pixel735, pixel448, pixel725, pixel432, pixel455, pixel463, pixel99, pixel19, pixel216, pixel92, pixel736, pixel643, pixel113, pixel119, pixel10, pixel591, pixel716, pixel108, pixel650, pixel482, pixel358, pixel603, pixel117, pixel619, pixel184, pixel723, pixel383, pixel131, pixel169, pixel701, pixel367, pixel397, pixel32, pixel324, pixel424, pixel3, pixel219, pixel305, pixel168, pixel621, pixel642, pixel501, pixel697, pixel178, pixel520, pixel748, pixel667, pixel83, pixel166, pixel150, pixel506, pixel319, pixel734, pixel234, pixel153, pixel557, pixel617, pixel503, pixel674, pixel22, pixel130, pixel777, pixel237, pixel369, pixel494, pixel461, pixel504, pixel597, pixel646, pixel511, pixel41, pixel66, pixel297, pixel604, pixel473, pixel668, pixel40, pixel263, pixel582, pixel731, pixel125, pixel314, pixel160, pixel226, pixel195, pixel87, pixel103, pixel205, pixel114, pixel327, pixel287, pixel192, pixel683, pixel583, pixel223, pixel401, pixel652, pixel662, pixel294, pixel59, pixel447, pixel607, pixel680, pixel156, pixel658, pixel368, pixel679, pixel329, pixel464, pixel262, pixel212, pixel315, pixel197, pixel352, pixel774, pixel500, pixel55, pixel724, pixel..."
          ]
        }
      ]
    },
    {
      "cell_type": "code",
      "metadata": {
        "id": "hD3XNE6G4XLo"
      },
      "source": [
        ""
      ],
      "execution_count": null,
      "outputs": []
    },
    {
      "cell_type": "code",
      "metadata": {
        "id": "vsS_k12yaiJl"
      },
      "source": [
        ""
      ],
      "execution_count": null,
      "outputs": []
    }
  ]
}